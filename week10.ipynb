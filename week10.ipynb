{
  "cells": [
    {
      "cell_type": "markdown",
      "metadata": {
        "id": "LV_-2Umu_t7K"
      },
      "source": [
        "# ※ 과제 안내\n",
        "- 과제 배점: 각 문제당 10점, 총점 100점입니다. 부분 점수는 제공되지 않습니다.  \n",
        "\n",
        "- 채점 기준:   \n",
        "    - 코드의 다양성 인정: 출력 결과가 동일하다면 다양한 접근 방식을 존중하여 정답으로 인정합니다."
      ]
    },
    {
      "cell_type": "markdown",
      "metadata": {
        "id": "ZYYYImPN_t7O"
      },
      "source": [
        "---\n",
        "# 10주차 과제"
      ]
    },
    {
      "cell_type": "code",
      "execution_count": 1,
      "metadata": {
        "id": "1b9IvHB3_t7P"
      },
      "outputs": [],
      "source": [
        "import warnings\n",
        "warnings.filterwarnings('ignore')"
      ]
    },
    {
      "cell_type": "markdown",
      "source": [
        "---\n",
        "# Q1. Logistic Regression"
      ],
      "metadata": {
        "id": "p2zUrfdQqpk_"
      }
    },
    {
      "cell_type": "code",
      "source": [
        "\"\"\"\n",
        "1-1) Logistic Regression\n",
        "\n",
        "아래 링크를 통해 train.csv, test.csv를 다운로드 받아 colab에 업로드해주세요.\n",
        "https://drive.google.com/drive/folders/1-guGW6lTbUe9bCUY5JfNavUCkaiH6mrt?usp=sharing\n",
        "\n",
        "\"\"\"\n",
        "\n",
        "import pandas as pd\n",
        "from sklearn.model_selection import train_test_split\n",
        "from sklearn.preprocessing import StandardScaler\n",
        "import statsmodels.api as sm\n",
        "from sklearn.metrics import confusion_matrix, classification_report, f1_score\n",
        "\n",
        "# 데이터 로드\n",
        "train = pd.read_csv(\"train.csv\")\n",
        "test = pd.read_csv(\"test.csv\")\n",
        "\n",
        "print(\"셀 1: 라이브러리 임포트 및 데이터 로드 완료.\")\n",
        "print(\"train shape:\", train.shape, \" test shape:\", test.shape)\n"
      ],
      "metadata": {
        "id": "3SZBAhPtp0l-",
        "colab": {
          "base_uri": "https://localhost:8080/"
        },
        "outputId": "ddf50b38-677f-4202-fc48-f2e69a0fc67f"
      },
      "execution_count": 3,
      "outputs": [
        {
          "output_type": "stream",
          "name": "stdout",
          "text": [
            "셀 1: 라이브러리 임포트 및 데이터 로드 완료.\n",
            "train shape: (3019, 66)  test shape: (1626, 65)\n"
          ]
        }
      ]
    },
    {
      "cell_type": "code",
      "source": [
        "# 1-2)\n",
        "# 타겟 변수와 ID 분리\n",
        "train_x = train.drop(['ID', 'Prospect'], axis=1)\n",
        "train_y = train['Prospect']\n",
        "test_x = test.drop(['ID'], axis=1)\n",
        "\n",
        "# train과 test를 합쳐서 one-hot 인코딩\n",
        "combined = pd.concat([train_x, test_x], axis=0)\n",
        "\n",
        "# 범주형 변수에 대해 One-hot 인코딩 (drop_first=True)\n",
        "combined = pd.get_dummies(combined, drop_first=True)\n",
        "\n",
        "# 다시 분리\n",
        "train_x = combined.iloc[:len(train_y), :]\n",
        "test_x = combined.iloc[len(train_y):, :]\n",
        "\n",
        "print(\"셀 2: 데이터 전처리 (타겟/ID 분리, One-hot 인코딩) 완료.\")\n",
        "print(\"train_x shape:\", train_x.shape, \" test_x shape:\", test_x.shape)"
      ],
      "metadata": {
        "id": "S-g_NvooSmNJ",
        "colab": {
          "base_uri": "https://localhost:8080/"
        },
        "outputId": "3a6356e6-bf13-408e-cb95-e21567df9280"
      },
      "execution_count": 6,
      "outputs": [
        {
          "output_type": "stream",
          "name": "stdout",
          "text": [
            "셀 2: 데이터 전처리 (타겟/ID 분리, One-hot 인코딩) 완료.\n",
            "train_x shape: (3019, 79)  test_x shape: (1626, 79)\n"
          ]
        }
      ]
    },
    {
      "cell_type": "code",
      "source": [
        "# 1-3)\n",
        "# 1. 스케일링\n",
        "scaler = StandardScaler()\n",
        "train_x_scaled = scaler.fit_transform(train_x)\n",
        "test_x_scaled = scaler.transform(test_x)\n",
        "\n",
        "# 2. DataFrame으로 복원 (컬럼 이름 유지)\n",
        "train_x = pd.DataFrame(train_x_scaled, columns=train_x.columns, index=train_x.index)\n",
        "test_x = pd.DataFrame(test_x_scaled, columns=test_x.columns, index=test_x.index)\n",
        "\n",
        "# 3. 상수항 추가 (for statsmodels)\n",
        "train_x = sm.add_constant(train_x)\n",
        "test_x = sm.add_constant(test_x)\n",
        "\n",
        "print(\"셀 3: 스케일링 & 상수항 추가 완료.\")\n",
        "print(\"train_x.columns:\", train_x.columns)\n"
      ],
      "metadata": {
        "id": "wNVQ-eRYSqpP",
        "colab": {
          "base_uri": "https://localhost:8080/"
        },
        "outputId": "4999a481-580c-490b-ad99-887e6074040a"
      },
      "execution_count": 7,
      "outputs": [
        {
          "output_type": "stream",
          "name": "stdout",
          "text": [
            "셀 3: 스케일링 & 상수항 추가 완료.\n",
            "train_x.columns: Index(['const', 'Age', 'Height', 'Weight', 'PaceTotal', 'ShootingTotal',\n",
            "       'PassingTotal', 'DribblingTotal', 'DefendingTotal', 'PhysicalityTotal',\n",
            "       'Crossing', 'Finishing', 'HeadingAccuracy', 'ShortPassing', 'Volleys',\n",
            "       'Dribbling', 'Curve', 'FKAccuracy', 'LongPassing', 'BallControl',\n",
            "       'Acceleration', 'SprintSpeed', 'Agility', 'Reactions', 'Balance',\n",
            "       'ShotPower', 'Jumping', 'Stamina', 'Strength', 'LongShots',\n",
            "       'Aggression', 'Interceptions', 'Positioning', 'Vision', 'Penalties',\n",
            "       'Composure', 'Marking', 'StandingTackle', 'SlidingTackle', 'GKDiving',\n",
            "       'GKHandling', 'GKKicking', 'GKPositioning', 'GKReflexes', 'STRating',\n",
            "       'LWRating', 'LFRating', 'CFRating', 'RFRating', 'RWRating', 'CAMRating',\n",
            "       'LMRating', 'CMRating', 'RMRating', 'LWBRating', 'CDMRating',\n",
            "       'RWBRating', 'LBRating', 'CBRating', 'RBRating', 'GKRating',\n",
            "       'Position_CB', 'Position_CDM', 'Position_CF', 'Position_CM',\n",
            "       'Position_GK', 'Position_LB', 'Position_LM', 'Position_LW',\n",
            "       'Position_LWB', 'Position_RB', 'Position_RM', 'Position_RW',\n",
            "       'Position_RWB', 'Position_ST', 'PreferredFoot_Right',\n",
            "       'AttackingWorkRate_Low', 'AttackingWorkRate_Medium',\n",
            "       'DefensiveWorkRate_Low', 'DefensiveWorkRate_Medium'],\n",
            "      dtype='object')\n"
          ]
        }
      ]
    },
    {
      "cell_type": "code",
      "source": [
        "# 1-4)\n",
        "# 학습/검증 데이터 분리\n",
        "train_x, val_x, train_y, val_y = train_test_split(\n",
        "    train_x, train_y, test_size=0.2, random_state=42, stratify=train_y\n",
        ")\n",
        "\n",
        "print(\"셀 4: 학습/검증 데이터 분리 완료.\")\n",
        "print(\"train_x shape:\", train_x.shape, \" val_x shape:\", val_x.shape)\n"
      ],
      "metadata": {
        "id": "g8_5R5tOSqiO",
        "colab": {
          "base_uri": "https://localhost:8080/"
        },
        "outputId": "71a9e25e-5497-4fac-c050-1e7e2bc9a0e1"
      },
      "execution_count": 9,
      "outputs": [
        {
          "output_type": "stream",
          "name": "stdout",
          "text": [
            "셀 4: 학습/검증 데이터 분리 완료.\n",
            "train_x shape: (1932, 80)  val_x shape: (483, 80)\n"
          ]
        }
      ]
    },
    {
      "cell_type": "code",
      "source": [
        "# 1-5)\n",
        "# 로지스틱 회귀 모델 학습\n",
        "\n",
        "model = sm.Logit(train_y, train_x)\n",
        "result = model.fit(maxiter=100, method='lbfgs')\n",
        "\n",
        "\n",
        "# 결과 출력\n",
        "print(\"셀 5: 로지스틱 회귀 모델 학습 완료.\")\n",
        "print(result.summary())\n"
      ],
      "metadata": {
        "id": "mbciBMRZSmC9",
        "colab": {
          "base_uri": "https://localhost:8080/"
        },
        "outputId": "0eb58167-453f-44f7-bcfa-d397519bd7c1"
      },
      "execution_count": 11,
      "outputs": [
        {
          "output_type": "stream",
          "name": "stdout",
          "text": [
            "셀 5: 로지스틱 회귀 모델 학습 완료.\n",
            "                           Logit Regression Results                           \n",
            "==============================================================================\n",
            "Dep. Variable:               Prospect   No. Observations:                 1932\n",
            "Model:                          Logit   Df Residuals:                     1858\n",
            "Method:                           MLE   Df Model:                           73\n",
            "Date:                Thu, 07 Aug 2025   Pseudo R-squ.:                  0.3298\n",
            "Time:                        08:31:48   Log-Likelihood:                -847.03\n",
            "converged:                      False   LL-Null:                       -1263.8\n",
            "Covariance Type:            nonrobust   LLR p-value:                1.757e-129\n",
            "============================================================================================\n",
            "                               coef    std err          z      P>|z|      [0.025      0.975]\n",
            "--------------------------------------------------------------------------------------------\n",
            "const                       -0.8007        nan        nan        nan         nan         nan\n",
            "Age                         -1.5426        nan        nan        nan         nan         nan\n",
            "Height                       0.1115        nan        nan        nan         nan         nan\n",
            "Weight                       0.0716        nan        nan        nan         nan         nan\n",
            "PaceTotal                    0.0102        nan        nan        nan         nan         nan\n",
            "ShootingTotal               -1.6036        nan        nan        nan         nan         nan\n",
            "PassingTotal                -0.3467        nan        nan        nan         nan         nan\n",
            "DribblingTotal               0.2679        nan        nan        nan         nan         nan\n",
            "DefendingTotal               0.4837        nan        nan        nan         nan         nan\n",
            "PhysicalityTotal            -0.3881        nan        nan        nan         nan         nan\n",
            "Crossing                    -0.4311        nan        nan        nan         nan         nan\n",
            "Finishing                    0.4179        nan        nan        nan         nan         nan\n",
            "HeadingAccuracy             -0.3933        nan        nan        nan         nan         nan\n",
            "ShortPassing                 0.2445        nan        nan        nan         nan         nan\n",
            "Volleys                     -0.1652        nan        nan        nan         nan         nan\n",
            "Dribbling                   -0.3980        nan        nan        nan         nan         nan\n",
            "Curve                        0.1201        nan        nan        nan         nan         nan\n",
            "FKAccuracy                   0.2151        nan        nan        nan         nan         nan\n",
            "LongPassing                 -0.0326        nan        nan        nan         nan         nan\n",
            "BallControl                  0.1568        nan        nan        nan         nan         nan\n",
            "Acceleration                 0.3883        nan        nan        nan         nan         nan\n",
            "SprintSpeed                 -0.3219        nan        nan        nan         nan         nan\n",
            "Agility                     -0.1220        nan        nan        nan         nan         nan\n",
            "Reactions                   -0.2111        nan        nan        nan         nan         nan\n",
            "Balance                     -0.0458        nan        nan        nan         nan         nan\n",
            "ShotPower                    0.3201        nan        nan        nan         nan         nan\n",
            "Jumping                     -0.0003        nan        nan        nan         nan         nan\n",
            "Stamina                     -0.1527        nan        nan        nan         nan         nan\n",
            "Strength                     0.2431        nan        nan        nan         nan         nan\n",
            "LongShots                    0.5765        nan        nan        nan         nan         nan\n",
            "Aggression                   0.2031        nan        nan        nan         nan         nan\n",
            "Interceptions                0.1348        nan        nan        nan         nan         nan\n",
            "Positioning                 -0.4357        nan        nan        nan         nan         nan\n",
            "Vision                       0.2717        nan        nan        nan         nan         nan\n",
            "Penalties                    0.4947        nan        nan        nan         nan         nan\n",
            "Composure                   -0.1728        nan        nan        nan         nan         nan\n",
            "Marking                     -0.3496        nan        nan        nan         nan         nan\n",
            "StandingTackle              -0.8468        nan        nan        nan         nan         nan\n",
            "SlidingTackle               -0.1447        nan        nan        nan         nan         nan\n",
            "GKDiving                     0.0939        nan        nan        nan         nan         nan\n",
            "GKHandling                   0.3084        nan        nan        nan         nan         nan\n",
            "GKKicking                    0.2933        nan        nan        nan         nan         nan\n",
            "GKPositioning               -0.1490        nan        nan        nan         nan         nan\n",
            "GKReflexes                   0.2001        nan        nan        nan         nan         nan\n",
            "STRating                    -0.4855        nan        nan        nan         nan         nan\n",
            "LWRating                     0.4811        nan        nan        nan         nan         nan\n",
            "LFRating                     0.3021        nan        nan        nan         nan         nan\n",
            "CFRating                     0.3021        nan        nan        nan         nan         nan\n",
            "RFRating                     0.3021        nan        nan        nan         nan         nan\n",
            "RWRating                     0.4811        nan        nan        nan         nan         nan\n",
            "CAMRating                   -0.6946        nan        nan        nan         nan         nan\n",
            "LMRating                     0.0260        nan        nan        nan         nan         nan\n",
            "CMRating                    -0.1236        nan        nan        nan         nan         nan\n",
            "RMRating                     0.0260        nan        nan        nan         nan         nan\n",
            "LWBRating                    0.3035        nan        nan        nan         nan         nan\n",
            "CDMRating                    0.4724        nan        nan        nan         nan         nan\n",
            "RWBRating                    0.3035        nan        nan        nan         nan         nan\n",
            "LBRating                    -0.0266        nan        nan        nan         nan         nan\n",
            "CBRating                    -0.2288        nan        nan        nan         nan         nan\n",
            "RBRating                    -0.0266        nan        nan        nan         nan         nan\n",
            "GKRating                    -0.4578        nan        nan        nan         nan         nan\n",
            "Position_CB                  0.0338        nan        nan        nan         nan         nan\n",
            "Position_CDM                -0.1271        nan        nan        nan         nan         nan\n",
            "Position_CF                 -0.2494        nan        nan        nan         nan         nan\n",
            "Position_CM                  0.0129        nan        nan        nan         nan         nan\n",
            "Position_GK                  0.9101        nan        nan        nan         nan         nan\n",
            "Position_LB                  0.0742        nan        nan        nan         nan         nan\n",
            "Position_LM                  0.1481        nan        nan        nan         nan         nan\n",
            "Position_LW                  0.0107        nan        nan        nan         nan         nan\n",
            "Position_LWB                 0.0951        nan        nan        nan         nan         nan\n",
            "Position_RB                 -0.0657        nan        nan        nan         nan         nan\n",
            "Position_RM                 -0.0844        nan        nan        nan         nan         nan\n",
            "Position_RW                  0.0026        nan        nan        nan         nan         nan\n",
            "Position_RWB                -0.0676        nan        nan        nan         nan         nan\n",
            "Position_ST                  0.0269        nan        nan        nan         nan         nan\n",
            "PreferredFoot_Right          0.1722        nan        nan        nan         nan         nan\n",
            "AttackingWorkRate_Low        0.0361        nan        nan        nan         nan         nan\n",
            "AttackingWorkRate_Medium    -0.0756        nan        nan        nan         nan         nan\n",
            "DefensiveWorkRate_Low       -0.1171        nan        nan        nan         nan         nan\n",
            "DefensiveWorkRate_Medium    -0.0620        nan        nan        nan         nan         nan\n",
            "============================================================================================\n"
          ]
        },
        {
          "output_type": "stream",
          "name": "stderr",
          "text": [
            "/usr/local/lib/python3.11/dist-packages/statsmodels/base/model.py:595: HessianInversionWarning: Inverting hessian failed, no bse or cov_params available\n",
            "  warnings.warn('Inverting hessian failed, no bse or cov_params '\n",
            "/usr/local/lib/python3.11/dist-packages/statsmodels/base/model.py:607: ConvergenceWarning: Maximum Likelihood optimization failed to converge. Check mle_retvals\n",
            "  warnings.warn(\"Maximum Likelihood optimization failed to \"\n"
          ]
        }
      ]
    },
    {
      "cell_type": "code",
      "source": [
        "# 1-6)\n",
        "# 검증셋 예측 (확률 예측 → 0.5 기준 이진 분류)\n",
        "pred_prob = result.predict(val_x)\n",
        "pred = (pred_prob > 0.5).astype(int)\n",
        "\n",
        "# 혼동 행렬 & classification report\n",
        "conf_matrix = confusion_matrix(val_y, pred)\n",
        "\n",
        "print(\"Confusion Matrix:\\n\", conf_matrix)\n",
        "print(\"\\nClassification Report:\")\n",
        "print(classification_report(val_y, pred))\n",
        "\n",
        "# F1-score 계산\n",
        "f1 = f1_score(val_y, pred)\n",
        "print(f\"\\nF1-score on Validation Set: {f1:.4f}\")"
      ],
      "metadata": {
        "id": "4VptGe64S1yt",
        "colab": {
          "base_uri": "https://localhost:8080/"
        },
        "outputId": "683345d8-768c-4e2b-b515-03abe17cc4a4"
      },
      "execution_count": 12,
      "outputs": [
        {
          "output_type": "stream",
          "name": "stdout",
          "text": [
            "Confusion Matrix:\n",
            " [[265  44]\n",
            " [ 61 113]]\n",
            "\n",
            "Classification Report:\n",
            "              precision    recall  f1-score   support\n",
            "\n",
            "           0       0.81      0.86      0.83       309\n",
            "           1       0.72      0.65      0.68       174\n",
            "\n",
            "    accuracy                           0.78       483\n",
            "   macro avg       0.77      0.75      0.76       483\n",
            "weighted avg       0.78      0.78      0.78       483\n",
            "\n",
            "\n",
            "F1-score on Validation Set: 0.6828\n"
          ]
        }
      ]
    },
    {
      "cell_type": "markdown",
      "metadata": {
        "id": "ltbKST0x_t7R"
      },
      "source": [
        "---\n",
        "# Q2. CNN"
      ]
    },
    {
      "cell_type": "code",
      "execution_count": 13,
      "metadata": {
        "colab": {
          "base_uri": "https://localhost:8080/"
        },
        "id": "pxI55xlo_t7R",
        "outputId": "7a8bd5fa-2644-4cba-cad0-e15275b4ddb6"
      },
      "outputs": [
        {
          "output_type": "stream",
          "name": "stderr",
          "text": [
            "100%|██████████| 26.4M/26.4M [00:02<00:00, 10.0MB/s]\n",
            "100%|██████████| 29.5k/29.5k [00:00<00:00, 168kB/s]\n",
            "100%|██████████| 4.42M/4.42M [00:01<00:00, 3.18MB/s]\n",
            "100%|██████████| 5.15k/5.15k [00:00<00:00, 10.9MB/s]"
          ]
        },
        {
          "output_type": "stream",
          "name": "stdout",
          "text": [
            "셀 1: 라이브러리 임포트 & 데이터셋 로딩 완료.\n"
          ]
        },
        {
          "output_type": "stream",
          "name": "stderr",
          "text": [
            "\n"
          ]
        }
      ],
      "source": [
        "\"\"\"\n",
        "Q2. CNN\n",
        "\n",
        "모델 구조:\n",
        "\n",
        "Convolution → BatchNorm → ReLU → MaxPool을 3번 반복\n",
        "\n",
        "이후 Fully-connected layer 2개를 거치며, 첫 번째 FC의 크기는 256, 마지막 Output = 10\n",
        "\n",
        "**Dropout(0.5)**를 FC 레이어 사이에 적용\n",
        "\n",
        "손실 함수: CrossEntropyLoss\n",
        "\n",
        "최적화: Adam\n",
        "\n",
        "하이퍼파라미터:\n",
        "\n",
        "Epoch = 3\n",
        "\n",
        "Batch Size = 64\n",
        "\n",
        "로그 출력: 각 Epoch마다 Train Loss와 Validation Accuracy를 출력\n",
        "\"\"\"\n",
        "\n",
        "import torch\n",
        "import torch.nn as nn\n",
        "import torch.nn.functional as F\n",
        "import torch.optim as optim\n",
        "from torch.utils.data import DataLoader\n",
        "from torchvision import datasets, transforms\n",
        "\n",
        "# 하이퍼파라미터 설정\n",
        "BATCH_SIZE = 64\n",
        "EPOCHS = 3\n",
        "LEARNING_RATE = 0.001\n",
        "\n",
        "# 1) FashionMNIST 로드 & 변환 (transforms)\n",
        "train_transform = transforms.Compose([\n",
        "    transforms.ToTensor(),\n",
        "    transforms.Normalize((0.5,), (0.5,))  # 간단한 정규화\n",
        "])\n",
        "\n",
        "test_transform = transforms.Compose([\n",
        "    transforms.ToTensor(),\n",
        "    transforms.Normalize((0.5,), (0.5,))\n",
        "])\n",
        "\n",
        "# 2) Dataset & DataLoader\n",
        "train_dataset = datasets.FashionMNIST(root='./data', train=True,\n",
        "                                      download=True, transform=train_transform)\n",
        "test_dataset = datasets.FashionMNIST(root='./data', train=False,\n",
        "                                     download=True, transform=test_transform)\n",
        "\n",
        "# Train/Validation 분할 (원본 train 데이터 일부를 val로)\n",
        "train_size = int(len(train_dataset) * 0.8)\n",
        "val_size = len(train_dataset) - train_size\n",
        "train_dataset, val_dataset = torch.utils.data.random_split(train_dataset, [train_size, val_size])\n",
        "\n",
        "train_loader = DataLoader(train_dataset, batch_size=BATCH_SIZE, shuffle=True)\n",
        "val_loader = DataLoader(val_dataset, batch_size=BATCH_SIZE, shuffle=False)\n",
        "test_loader = DataLoader(test_dataset, batch_size=BATCH_SIZE, shuffle=False)\n",
        "\n",
        "print(\"셀 1: 라이브러리 임포트 & 데이터셋 로딩 완료.\")\n",
        "\n"
      ]
    },
    {
      "cell_type": "code",
      "source": [
        "class CustomCNN(nn.Module):\n",
        "    def __init__(self):\n",
        "        super().__init__()\n",
        "        # Convolutional layers\n",
        "        self.conv1 = nn.Sequential(\n",
        "            nn.Conv2d(1, 16, kernel_size=3, padding=1),\n",
        "            nn.BatchNorm2d(16),\n",
        "            nn.ReLU(),\n",
        "            nn.MaxPool2d(2)  # 28 → 14\n",
        "        )\n",
        "        self.conv2 = nn.Sequential(\n",
        "            nn.Conv2d(16, 32, kernel_size=3, padding=1),\n",
        "            nn.BatchNorm2d(32),\n",
        "            nn.ReLU(),\n",
        "            nn.MaxPool2d(2)  # 14 → 7\n",
        "        )\n",
        "        self.conv3 = nn.Sequential(\n",
        "            nn.Conv2d(32, 64, kernel_size=3, padding=1),\n",
        "            nn.BatchNorm2d(64),\n",
        "            nn.ReLU(),\n",
        "            nn.MaxPool2d(2)  # 7 → 3\n",
        "        )\n",
        "\n",
        "        # Fully-connected layers\n",
        "        self.fc1 = nn.Linear(64 * 3 * 3, 256)\n",
        "        self.dropout = nn.Dropout(0.5)\n",
        "        self.fc2 = nn.Linear(256, 10)\n",
        "\n",
        "    def forward(self, x):\n",
        "        # Forward pass\n",
        "        x = self.conv1(x)\n",
        "        x = self.conv2(x)\n",
        "        x = self.conv3(x)\n",
        "\n",
        "        # Flatten + FC\n",
        "        x = torch.flatten(x, start_dim=1)\n",
        "        x = self.dropout(F.relu(self.fc1(x)))\n",
        "        x = self.fc2(x)\n",
        "        return x\n",
        "\n",
        "print(\"셀 2: CustomCNN 모델 클래스 정의 완료.\")\n"
      ],
      "metadata": {
        "colab": {
          "base_uri": "https://localhost:8080/"
        },
        "id": "qcnSHRTuZJLw",
        "outputId": "7b91ba2d-86bd-4cda-8186-be61eb0f0636"
      },
      "execution_count": 14,
      "outputs": [
        {
          "output_type": "stream",
          "name": "stdout",
          "text": [
            "셀 2: CustomCNN 모델 클래스 정의 완료.\n"
          ]
        }
      ]
    },
    {
      "cell_type": "code",
      "source": [
        "def train_one_epoch(model, loader, criterion, optimizer, device):\n",
        "    \"\"\"\n",
        "    한 epoch 동안 train_loader를 순회하며 모델을 학습하고,\n",
        "    평균 loss를 리턴합니다.\n",
        "    \"\"\"\n",
        "    model.train()\n",
        "    running_loss = 0.0\n",
        "    for images, labels in loader:\n",
        "        images = images.to(device)\n",
        "        labels = labels.to(device)\n",
        "\n",
        "        optimizer.zero_grad()\n",
        "        outputs = model(images)\n",
        "        loss = criterion(outputs, labels)\n",
        "        loss.backward()\n",
        "        optimizer.step()\n",
        "\n",
        "        running_loss += loss.item()\n",
        "\n",
        "    return running_loss / len(loader)\n",
        "\n",
        "\n",
        "def evaluate_accuracy(model, loader, device):\n",
        "    \"\"\"\n",
        "    검증(또는 테스트) 데이터에서 모델의 정확도를 측정하여 리턴합니다.\n",
        "    \"\"\"\n",
        "    model.eval()\n",
        "    correct = 0\n",
        "    total = 0\n",
        "    with torch.no_grad():\n",
        "        for images, labels in loader:\n",
        "            images = images.to(device)\n",
        "            labels = labels.to(device)\n",
        "\n",
        "            outputs = model(images)\n",
        "            _, predicted = torch.max(outputs, 1)\n",
        "            correct += (predicted == labels).sum().item()\n",
        "            total += labels.size(0)\n",
        "\n",
        "    acc = correct / total * 100\n",
        "    return acc\n",
        "\n",
        "print(\"셀 3: train_one_epoch / evaluate_accuracy 함수 정의 완료.\")\n"
      ],
      "metadata": {
        "colab": {
          "base_uri": "https://localhost:8080/"
        },
        "id": "dIoiiW4fZJDo",
        "outputId": "5ecfffc5-46c4-416f-b81a-bff9ab8eda9c"
      },
      "execution_count": 15,
      "outputs": [
        {
          "output_type": "stream",
          "name": "stdout",
          "text": [
            "셀 3: train_one_epoch / evaluate_accuracy 함수 정의 완료.\n"
          ]
        }
      ]
    },
    {
      "cell_type": "code",
      "source": [
        "# GPU 사용 가능하면 사용\n",
        "device = torch.device(\"cuda\" if torch.cuda.is_available() else \"cpu\")\n",
        "print(\"사용 디바이스:\", device)\n",
        "\n",
        "# 모델, 손실함수, 최적화함수 정의\n",
        "model = CustomCNN().to(device)\n",
        "criterion = nn.CrossEntropyLoss()\n",
        "optimizer = optim.Adam(model.parameters(), lr=LEARNING_RATE)\n",
        "\n",
        "# 학습 진행\n",
        "for epoch in range(EPOCHS):\n",
        "    train_loss = train_one_epoch(model, train_loader, criterion, optimizer, device)\n",
        "    val_acc = evaluate_accuracy(model, val_loader, device)\n",
        "    print(f\"Epoch {epoch+1} - Train Loss: {train_loss:.4f}, Val Accuracy: {val_acc:.2f}%\")\n",
        "\n",
        "print(\"모델 학습 완료!\")\n",
        "\n",
        "# 테스트셋 정확도 확인\n",
        "test_acc = evaluate_accuracy(model, test_loader, device)\n",
        "print(f\"테스트셋 Accuracy: {test_acc:.2f}%\")\n"
      ],
      "metadata": {
        "colab": {
          "base_uri": "https://localhost:8080/"
        },
        "id": "EE7ccYHGZI8H",
        "outputId": "3b97454c-9fc3-483a-c534-e708e547426f"
      },
      "execution_count": 16,
      "outputs": [
        {
          "output_type": "stream",
          "name": "stdout",
          "text": [
            "사용 디바이스: cuda\n",
            "Epoch 1 - Train Loss: 0.4718, Val Accuracy: 88.60%\n",
            "Epoch 2 - Train Loss: 0.3110, Val Accuracy: 89.72%\n",
            "Epoch 3 - Train Loss: 0.2689, Val Accuracy: 90.98%\n",
            "모델 학습 완료!\n",
            "테스트셋 Accuracy: 90.16%\n"
          ]
        }
      ]
    },
    {
      "cell_type": "markdown",
      "metadata": {
        "id": "ms-m-Tw7_t7V"
      },
      "source": [
        "---\n",
        "# Q3. CNN 이미지 분류"
      ]
    },
    {
      "cell_type": "code",
      "execution_count": 4,
      "metadata": {
        "id": "mMIWQBZH_t7W",
        "colab": {
          "base_uri": "https://localhost:8080/"
        },
        "outputId": "95d9f2bf-ccaf-4972-ca87-9a4e87f73fe8"
      },
      "outputs": [
        {
          "output_type": "stream",
          "name": "stderr",
          "text": [
            "100%|██████████| 170M/170M [00:03<00:00, 43.9MB/s]\n"
          ]
        },
        {
          "output_type": "stream",
          "name": "stdout",
          "text": [
            "셀 1: CIFAR-10 데이터 로드 & 전처리 완료.\n"
          ]
        }
      ],
      "source": [
        "\"\"\"\n",
        "Q3. CNN 이미지 분류\n",
        "\n",
        "데이터셋: CIFAR-10 (torchvision 사용)\n",
        "\n",
        "데이터 전처리:\n",
        "toTensor + 정규화(mean, std), Data Augmentation 등\n",
        "\n",
        "모델: CNN(직접 정의)\n",
        "\n",
        "손실 함수: CrossEntropyLoss\n",
        "\n",
        "최적화: SGD 또는 Adam (학습자가 결정)\n",
        "\n",
        "하이퍼파라미터: Epoch, Learning Rate, Batch Size 등 조정\n",
        "\n",
        "결과: 테스트셋 Accuracy 75% 이상 달성하도록 모델/전처리 개선\n",
        "\"\"\"\n",
        "import torch\n",
        "import torch.nn as nn\n",
        "import torch.optim as optim\n",
        "import torch.nn.functional as F\n",
        "import torchvision\n",
        "import torchvision.transforms as transforms\n",
        "\n",
        "import matplotlib.pyplot as plt\n",
        "import numpy as np\n",
        "import random\n",
        "import os\n",
        "\n",
        "import torch\n",
        "import torch.nn as nn\n",
        "import torch.optim as optim\n",
        "import torch.nn.functional as F\n",
        "import torchvision\n",
        "import torchvision.transforms as transforms\n",
        "\n",
        "import random\n",
        "import numpy as np\n",
        "\n",
        "# 시드 고정 (재현성)\n",
        "SEED = 42\n",
        "random.seed(SEED)\n",
        "np.random.seed(SEED)\n",
        "torch.manual_seed(SEED)\n",
        "if torch.cuda.is_available():\n",
        "    torch.cuda.manual_seed(SEED)\n",
        "\n",
        "# ---------------------------\n",
        "# 1) 데이터셋 로드 & 전처리\n",
        "# ---------------------------\n",
        "# 전처리 코드\n",
        "train_transform = transforms.Compose([\n",
        "    transforms.RandomHorizontalFlip(),\n",
        "    transforms.RandomCrop(32, padding=4),\n",
        "    transforms.ToTensor(),\n",
        "    transforms.Normalize(mean=(0.4914, 0.4822, 0.4465),\n",
        "                         std=(0.2023, 0.1994, 0.2010))\n",
        "])\n",
        "\n",
        "test_transform = transforms.Compose([\n",
        "    transforms.ToTensor(),\n",
        "    transforms.Normalize(mean=(0.4914, 0.4822, 0.4465),\n",
        "                         std=(0.2023, 0.1994, 0.2010))\n",
        "])\n",
        "\n",
        "train_dataset = torchvision.datasets.CIFAR10(root='./data', train=True,\n",
        "                                             download=True, transform=train_transform)\n",
        "\n",
        "test_dataset = torchvision.datasets.CIFAR10(root='./data', train=False,\n",
        "                                            download=True, transform=test_transform)\n",
        "\n",
        "# Train을 further split -> Train/Val\n",
        "train_size = int(0.8 * len(train_dataset))\n",
        "val_size = len(train_dataset) - train_size\n",
        "\n",
        "train_dataset, val_dataset = torch.utils.data.random_split(train_dataset, [train_size, val_size])\n",
        "\n",
        "# DataLoader\n",
        "BATCH_SIZE = 64\n",
        "train_loader = torch.utils.data.DataLoader(train_dataset, batch_size=BATCH_SIZE,\n",
        "                                          shuffle=True, num_workers=2)\n",
        "val_loader = torch.utils.data.DataLoader(val_dataset, batch_size=BATCH_SIZE,\n",
        "                                        shuffle=False, num_workers=2)\n",
        "test_loader = torch.utils.data.DataLoader(test_dataset, batch_size=BATCH_SIZE,\n",
        "                                         shuffle=False, num_workers=2)\n",
        "\n",
        "print(\"셀 1: CIFAR-10 데이터 로드 & 전처리 완료.\")"
      ]
    },
    {
      "cell_type": "code",
      "source": [
        "'''\n",
        "CNN 모델에 직접 채널 수, 레이어 수, Dropout, BatchNorm 등을 추가해서 개선해볼 수 있음.\n",
        "'''\n",
        "class SimpleCNN(nn.Module):\n",
        "    def __init__(self):\n",
        "        super(SimpleCNN, self).__init__()\n",
        "\n",
        "        self.conv_block = nn.Sequential(\n",
        "            nn.Conv2d(3, 64, kernel_size=3, padding=1),  # (B, 3, 32, 32) → (B, 64, 32, 32)\n",
        "            nn.BatchNorm2d(64),\n",
        "            nn.ReLU(),\n",
        "            nn.Conv2d(64, 64, kernel_size=3, padding=1), # → (B, 64, 32, 32)\n",
        "            nn.BatchNorm2d(64),\n",
        "            nn.ReLU(),\n",
        "            nn.MaxPool2d(2, 2),                          # → (B, 64, 16, 16)\n",
        "            nn.Dropout(0.25),\n",
        "\n",
        "            nn.Conv2d(64, 128, kernel_size=3, padding=1),\n",
        "            nn.BatchNorm2d(128),\n",
        "            nn.ReLU(),\n",
        "            nn.Conv2d(128, 128, kernel_size=3, padding=1),\n",
        "            nn.BatchNorm2d(128),\n",
        "            nn.ReLU(),\n",
        "            nn.MaxPool2d(2, 2),                          # → (B, 128, 8, 8)\n",
        "            nn.Dropout(0.25),\n",
        "\n",
        "            nn.Conv2d(128, 256, kernel_size=3, padding=1),\n",
        "            nn.BatchNorm2d(256),\n",
        "            nn.ReLU(),\n",
        "            nn.MaxPool2d(2, 2),                          # → (B, 256, 4, 4)\n",
        "            nn.Dropout(0.25),\n",
        "        )\n",
        "\n",
        "        self.fc_block = nn.Sequential(\n",
        "            nn.Flatten(),                                # (B, 256*4*4)\n",
        "            nn.Linear(256 * 4 * 4, 256),\n",
        "            nn.ReLU(),\n",
        "            nn.Dropout(0.5),\n",
        "            nn.Linear(256, 10)\n",
        "        )\n",
        "\n",
        "    def forward(self, x):\n",
        "        x = self.conv_block(x)\n",
        "        x = self.fc_block(x)\n",
        "        return x\n",
        "\n",
        "print(\"셀 2: SimpleCNN 모델 정의 완료.\")\n",
        "\n",
        "\n",
        "print(\"셀 2: SimpleCNN 모델 정의 완료.\")"
      ],
      "metadata": {
        "colab": {
          "base_uri": "https://localhost:8080/"
        },
        "id": "9sRxkpVLaRgH",
        "outputId": "ef3d9986-239a-4f1c-86a9-a84f2a1b7d85"
      },
      "execution_count": 5,
      "outputs": [
        {
          "output_type": "stream",
          "name": "stdout",
          "text": [
            "셀 2: SimpleCNN 모델 정의 완료.\n",
            "셀 2: SimpleCNN 모델 정의 완료.\n"
          ]
        }
      ]
    },
    {
      "cell_type": "code",
      "source": [
        "def train_one_epoch(model, loader, criterion, optimizer, device):\n",
        "    model.train()\n",
        "    running_loss = 0.0\n",
        "    for images, labels in loader:\n",
        "        images, labels = images.to(device), labels.to(device)\n",
        "        optimizer.zero_grad()\n",
        "        outputs = model(images)\n",
        "        loss = criterion(outputs, labels)\n",
        "        loss.backward()\n",
        "        optimizer.step()\n",
        "        running_loss += loss.item()\n",
        "    return running_loss / len(loader)\n",
        "\n",
        "def evaluate_accuracy(model, loader, device):\n",
        "    model.eval()\n",
        "    correct = 0\n",
        "    total = 0\n",
        "    with torch.no_grad():\n",
        "        for images, labels in loader:\n",
        "            images, labels = images.to(device), labels.to(device)\n",
        "            outputs = model(images)\n",
        "            _, preds = outputs.max(dim=1)\n",
        "            correct += (preds == labels).sum().item()\n",
        "            total += labels.size(0)\n",
        "    return correct / total * 100\n",
        "\n",
        "print(\"셀 3: 학습(train_one_epoch), 평가(evaluate_accuracy) 함수 정의 완료.\")\n"
      ],
      "metadata": {
        "colab": {
          "base_uri": "https://localhost:8080/"
        },
        "id": "ciCTGpaaaRZE",
        "outputId": "56abab4b-ddd7-495b-a1a2-374f0139d99c"
      },
      "execution_count": 6,
      "outputs": [
        {
          "output_type": "stream",
          "name": "stdout",
          "text": [
            "셀 3: 학습(train_one_epoch), 평가(evaluate_accuracy) 함수 정의 완료.\n"
          ]
        }
      ]
    },
    {
      "cell_type": "code",
      "source": [
        "device = torch.device(\"cuda\" if torch.cuda.is_available() else \"cpu\")\n",
        "print(\"사용 디바이스:\", device)\n",
        "\n",
        "model = SimpleCNN().to(device)\n",
        "\n",
        "# 하이퍼파라미터 및 최적화\n",
        "EPOCHS = 20\n",
        "LR = 0.001\n",
        "\n",
        "criterion = nn.CrossEntropyLoss()\n",
        "optimizer = optim.Adam(model.parameters(), lr=LR)\n",
        "\n",
        "train_loss_list = []\n",
        "val_acc_list = []\n",
        "\n",
        "for epoch in range(EPOCHS):\n",
        "    train_loss = train_one_epoch(model, train_loader, criterion, optimizer, device)\n",
        "    val_acc = evaluate_accuracy(model, val_loader, device)\n",
        "    print(f\"Epoch {epoch+1}/{EPOCHS}  -  Loss: {train_loss:.4f}, Val Acc: {val_acc:.2f}%\")\n",
        "\n",
        "    train_loss_list.append(train_loss)\n",
        "    val_acc_list.append(val_acc)\n",
        "\n",
        "# 테스트셋 정확도\n",
        "test_acc = evaluate_accuracy(model, test_loader, device)\n",
        "print(f\"\\n최종 Test Accuracy: {test_acc:.2f}%\")\n"
      ],
      "metadata": {
        "colab": {
          "base_uri": "https://localhost:8080/"
        },
        "id": "XQ7aMlwAaRSb",
        "outputId": "ec2eb3a3-609e-45ab-91ab-1a8b91600152"
      },
      "execution_count": 7,
      "outputs": [
        {
          "output_type": "stream",
          "name": "stdout",
          "text": [
            "사용 디바이스: cuda\n",
            "Epoch 1/20  -  Loss: 1.8250, Val Acc: 41.15%\n",
            "Epoch 2/20  -  Loss: 1.5249, Val Acc: 56.39%\n",
            "Epoch 3/20  -  Loss: 1.3666, Val Acc: 59.68%\n",
            "Epoch 4/20  -  Loss: 1.2721, Val Acc: 61.53%\n",
            "Epoch 5/20  -  Loss: 1.1836, Val Acc: 65.27%\n",
            "Epoch 6/20  -  Loss: 1.1360, Val Acc: 68.74%\n",
            "Epoch 7/20  -  Loss: 1.0829, Val Acc: 70.55%\n",
            "Epoch 8/20  -  Loss: 1.0387, Val Acc: 71.89%\n",
            "Epoch 9/20  -  Loss: 1.0012, Val Acc: 73.04%\n",
            "Epoch 10/20  -  Loss: 0.9694, Val Acc: 72.90%\n",
            "Epoch 11/20  -  Loss: 0.9418, Val Acc: 75.10%\n",
            "Epoch 12/20  -  Loss: 0.9089, Val Acc: 75.26%\n",
            "Epoch 13/20  -  Loss: 0.8753, Val Acc: 77.65%\n",
            "Epoch 14/20  -  Loss: 0.8529, Val Acc: 78.41%\n",
            "Epoch 15/20  -  Loss: 0.8316, Val Acc: 78.54%\n",
            "Epoch 16/20  -  Loss: 0.7975, Val Acc: 77.98%\n",
            "Epoch 17/20  -  Loss: 0.7683, Val Acc: 80.64%\n",
            "Epoch 18/20  -  Loss: 0.7423, Val Acc: 82.56%\n",
            "Epoch 19/20  -  Loss: 0.7081, Val Acc: 81.12%\n",
            "Epoch 20/20  -  Loss: 0.6885, Val Acc: 81.84%\n",
            "\n",
            "최종 Test Accuracy: 81.88%\n"
          ]
        }
      ]
    },
    {
      "cell_type": "code",
      "source": [
        "import matplotlib.pyplot as plt\n",
        "\n",
        "epochs_range = range(1, EPOCHS+1)\n",
        "\n",
        "plt.figure(figsize=(10,4))\n",
        "\n",
        "plt.subplot(1,2,1)\n",
        "plt.plot(epochs_range, train_loss_list, label='Train Loss')\n",
        "plt.xlabel('Epoch')\n",
        "plt.ylabel('Loss')\n",
        "plt.title('Train Loss Curve')\n",
        "plt.legend()\n",
        "\n",
        "plt.subplot(1,2,2)\n",
        "plt.plot(epochs_range, val_acc_list, label='Val Accuracy')\n",
        "plt.xlabel('Epoch')\n",
        "plt.ylabel('Accuracy (%)')\n",
        "plt.title('Validation Accuracy Curve')\n",
        "plt.legend()\n",
        "\n",
        "plt.show()\n"
      ],
      "metadata": {
        "colab": {
          "base_uri": "https://localhost:8080/",
          "height": 410
        },
        "id": "Mu2SOn3daRJb",
        "outputId": "60cdf14f-8c23-42fd-bc67-0070da27cca0"
      },
      "execution_count": 8,
      "outputs": [
        {
          "output_type": "display_data",
          "data": {
            "text/plain": [
              "<Figure size 1000x400 with 2 Axes>"
            ],
            "image/png": "[encoded data removed]"
          },
          "metadata": {}
        }
      ]
    },
    {
      "cell_type": "code",
      "source": [
        "# 75% 이상인지 검사\n",
        "if test_acc >= 75:\n",
        "    print(\"축하합니다! 모델이 75% 이상의 테스트 정확도를 달성했습니다.\")\n",
        "else:\n",
        "    print(\"아직 75% 미만입니다. 모델 개선이 필요합니다.\")"
      ],
      "metadata": {
        "colab": {
          "base_uri": "https://localhost:8080/"
        },
        "id": "RMoWkEuMhlNy",
        "outputId": "1342b0f4-f4dd-4b51-a119-1d98fb80d62e"
      },
      "execution_count": 9,
      "outputs": [
        {
          "output_type": "stream",
          "name": "stdout",
          "text": [
            "축하합니다! 모델이 75% 이상의 테스트 정확도를 달성했습니다.\n"
          ]
        }
      ]
    },
    {
      "cell_type": "markdown",
      "source": [
        "# Q4~5: CNN"
      ],
      "metadata": {
        "id": "sB26U66m8mno"
      }
    },
    {
      "cell_type": "code",
      "source": [
        "from google.colab import drive\n",
        "drive.mount('/content/drive')"
      ],
      "metadata": {
        "colab": {
          "base_uri": "https://localhost:8080/"
        },
        "id": "o9-iCj8E7jmy",
        "outputId": "c8b094d1-ba00-4c66-a51d-6fc680a6201c"
      },
      "execution_count": 14,
      "outputs": [
        {
          "output_type": "stream",
          "name": "stdout",
          "text": [
            "Drive already mounted at /content/drive; to attempt to forcibly remount, call drive.mount(\"/content/drive\", force_remount=True).\n"
          ]
        }
      ]
    },
    {
      "cell_type": "code",
      "source": [
        "!find /content/drive/MyDrive/ -name \"sanity_utils.cpython-311.pyc\"\n",
        "\n"
      ],
      "metadata": {
        "colab": {
          "base_uri": "https://localhost:8080/"
        },
        "id": "JgH42WTk8OS0",
        "outputId": "23912ad7-ae1b-427d-a6db-284c9dbbb0ca"
      },
      "execution_count": 29,
      "outputs": [
        {
          "output_type": "stream",
          "name": "stdout",
          "text": [
            "/content/drive/MyDrive/sanity_utils.cpython-311.pyc\n"
          ]
        }
      ]
    },
    {
      "cell_type": "code",
      "source": [
        "#####################\n",
        "#   수정하지 마세요 / sanity_code를 사용하기 위한 코드입니다.\n",
        "#####################\n",
        "\n",
        "import importlib.util\n",
        "import sys\n",
        "from sklearn.feature_extraction.text import CountVectorizer, TfidfVectorizer\n",
        "import numpy as np\n",
        "import torch\n",
        "import torch.nn as nn\n",
        "\n",
        "file_path = \"/content/drive/MyDrive/sanity_utils.cpython-311.pyc\"\n",
        "# file_path = \"/content/drive/MyDrive/your_work_path/__pycache__/sanity_utils.cpython-311.pyc\"\n",
        "#__pycache__/sanity_utils.cpython-311.pyc 이 루트가 코랩 상에서는 보이지 않을 수 있으니 앞에 경로를 수정하여 사용하시면 됩니다.\n",
        "# 자신이 작업하는 ipynb 파일이 있는 곳에 __pycache__ 폴더를 넣어주시면 됩니다. (pycache 폴더 안에는 보안화된 pyc 파일 존재)\n",
        "\n",
        "module_name = \"sanity_utils\"\n",
        "\n",
        "spec = importlib.util.spec_from_file_location(module_name, file_path)\n",
        "\n",
        "sanity_utils = importlib.util.module_from_spec(spec)\n",
        "sys.modules[module_name] = sanity_utils\n",
        "spec.loader.exec_module(sanity_utils)\n",
        "\n",
        "sync_cnn_weights = sanity_utils.sync_cnn_weights\n",
        "cnn_forward_sanity_check = sanity_utils.cnn_forward_sanity_check\n",
        "cnn_backward_sanity_check = sanity_utils.cnn_backward_sanity_check\n",
        "\n",
        "print(\"sanity_utils module has been successfully loaded.\")"
      ],
      "metadata": {
        "id": "RKsjlPwp2rm3",
        "colab": {
          "base_uri": "https://localhost:8080/"
        },
        "outputId": "f7ac16f2-86a5-4c6c-d22c-abda984b6eae"
      },
      "execution_count": 37,
      "outputs": [
        {
          "output_type": "stream",
          "name": "stdout",
          "text": [
            "sanity_utils module has been successfully loaded.\n"
          ]
        }
      ]
    },
    {
      "cell_type": "code",
      "source": [
        "# CNN from Scratch 과제 (Numpy만 사용)\n",
        "\n",
        "\"\"\"\n",
        "문제 4~5. CNN Forward 및 Backward 구현\n",
        "\n",
        "설명:\n",
        "이 문제에서는 Convolutional Neural Network(CNN)의 핵심 연산을 numpy만 사용하여 직접 구현합니다.\n",
        "구현 대상은 CNN 클래스의 forward 함수와 backward 함수입니다.\n",
        "\n",
        "1. forward 함수:\n",
        "입력 이미지를 다음 순서로 처리하여 최종 출력 벡터를 생성합니다.\n",
        "    - Conv2D: 입력 텐서에 필터를 적용해 feature map 생성\n",
        "    - ReLU: 음수는 0으로, 양수는 그대로 유지\n",
        "    - MaxPool2D (2x2): 2x2 영역 내 최댓값 추출로 다운샘플링\n",
        "    - Flatten: 최종 feature map을 1차원 벡터로 변환\n",
        "\n",
        "2. backward 함수:\n",
        "forward 단계의 각 연산에 대해 역전파(backward)를 구현하여,\n",
        "가중치(W)와 편향(b)에 대한 기울기(dW, db)를 정확히 계산합니다.\n",
        "중간 연산 결과를 저장하고, chain rule을 통해 gradient를 전달해야 합니다.\n",
        "\n",
        "요구사항:\n",
        "- 모든 연산은 numpy만 사용해야 하며, PyTorch 사용은 금지됩니다.\n",
        "- forward 결과는 (배치 크기, 벡터 길이)의 2차원 배열이어야 합니다.\n",
        "- backward는 내부 변수 dW, db에 정확한 기울기를 계산하여 저장해야 합니다.\n",
        "\n",
        "평가 기준:\n",
        "- cnn_forward_sanity_check()를 통과하면 forward 구현은 +1점\n",
        "- cnn_backward_sanity_check()를 통과하면 backward 구현은 +1점\n",
        "\"\"\"\n",
        "##########################################\n",
        "# CNN 구현: forward / backward\n",
        "##########################################\n",
        "class CNN:\n",
        "    def __init__(self, in_channels, out_channels, kernel_size, input_size):\n",
        "        self.in_channels = in_channels\n",
        "        self.out_channels = out_channels\n",
        "        self.kernel_size = kernel_size\n",
        "        self.input_size = input_size\n",
        "\n",
        "        # Xavier Initialization\n",
        "        self.W = np.random.randn(out_channels, in_channels, kernel_size, kernel_size).astype(np.float32) \\\n",
        "                 * np.sqrt(1. / (in_channels * kernel_size * kernel_size))\n",
        "        self.b = np.zeros((out_channels,), dtype=np.float32)\n",
        "\n",
        "        # Gradient placeholders\n",
        "        self.dW = np.zeros_like(self.W)\n",
        "        self.db = np.zeros_like(self.b)\n",
        "\n",
        "    def conv2d(self, x):\n",
        "      batch_size, in_channels, H, W = x.shape\n",
        "      K = self.kernel_size\n",
        "      out_H = H - K + 1\n",
        "      out_W = W - K + 1\n",
        "      out = np.zeros((batch_size, self.out_channels, out_H, out_W), dtype=np.float32)\n",
        "\n",
        "      for b in range(batch_size):\n",
        "          for oc in range(self.out_channels):\n",
        "              for ic in range(self.in_channels):\n",
        "                  for i in range(out_H):\n",
        "                      for j in range(out_W):\n",
        "                          patch = x[b, ic, i:i+K, j:j+K]\n",
        "                          out[b, oc, i, j] += np.sum(patch * self.W[oc, ic])\n",
        "              out[b, oc] += self.b[oc]\n",
        "      self.x = x  # 저장 for backward\n",
        "      self.out_conv = out\n",
        "      return out\n",
        "\n",
        "    def relu(self, x):\n",
        "        self.mask_relu = (x > 0).astype(np.float32)\n",
        "        return x * self.mask_relu\n",
        "\n",
        "    def maxpool2d(self, x, size=2):\n",
        "        B, C, H, W = x.shape\n",
        "        out_H, out_W = H // size, W // size\n",
        "        out = np.zeros((B, C, out_H, out_W), dtype=np.float32)\n",
        "        self.mask_pool = np.zeros_like(x)\n",
        "\n",
        "        for b in range(B):\n",
        "            for c in range(C):\n",
        "                for i in range(out_H):\n",
        "                    for j in range(out_W):\n",
        "                        patch = x[b, c, i*size:(i+1)*size, j*size:(j+1)*size]\n",
        "                        max_val = np.max(patch)\n",
        "                        out[b, c, i, j] = max_val\n",
        "                        max_pos = np.where(patch == max_val)\n",
        "                        self.mask_pool[b, c, i*size + max_pos[0][0], j*size + max_pos[1][0]] = 1\n",
        "        return out\n",
        "\n",
        "\n",
        "    def flatten(self, x):\n",
        "        self.shape_before_flat = x.shape\n",
        "        return x.reshape(x.shape[0], -1)\n",
        "\n",
        "    def forward(self, x):\n",
        "        out = self.conv2d(x)\n",
        "        out = self.relu(out)\n",
        "        out = self.maxpool2d(out)\n",
        "        out = self.flatten(out)\n",
        "        self.out = out  # 최종 출력 저장\n",
        "        return out\n",
        "\n",
        "    def backward(self):\n",
        "        # assume dout = 1 (즉, loss는 self.out 전체 합계라고 가정)\n",
        "        dout = np.ones_like(self.out, dtype=np.float32)\n",
        "\n",
        "        # 1. Unflatten\n",
        "        dpool = dout.reshape(self.shape_before_flat)\n",
        "\n",
        "        # 2. MaxPool Backward\n",
        "        dmax = np.zeros_like(self.mask_pool)\n",
        "        dmax[self.mask_pool == 1] = dpool.flatten()\n",
        "\n",
        "        # 3. ReLU Backward\n",
        "        drelu = dmax * self.mask_relu\n",
        "\n",
        "        # 4. Conv2D Backward (compute dW, db)\n",
        "        self.dW = np.zeros_like(self.W)\n",
        "        self.db = np.zeros_like(self.b)\n",
        "\n",
        "        B = self.x.shape[0]\n",
        "        for b in range(B):\n",
        "            for oc in range(self.out_channels):\n",
        "                self.db[oc] += np.sum(drelu[b, oc])\n",
        "                for ic in range(self.in_channels):\n",
        "                    for i in range(self.input_size[0] - self.kernel_size + 1):\n",
        "                        for j in range(self.input_size[1] - self.kernel_size + 1):\n",
        "                            patch = self.x[b, ic, i:i+self.kernel_size, j:j+self.kernel_size]\n",
        "                            self.dW[oc, ic] += drelu[b, oc, i, j] * patch\n",
        "\n",
        "    def update(self, lr=1e-2):\n",
        "        self.W -= lr * self.dW\n",
        "        self.b -= lr * self.db"
      ],
      "metadata": {
        "id": "2vLP1q0L6bLE"
      },
      "execution_count": 38,
      "outputs": []
    },
    {
      "cell_type": "markdown",
      "source": [
        "CNN Sanity Check"
      ],
      "metadata": {
        "id": "1T81Va0c_QLy"
      }
    },
    {
      "cell_type": "code",
      "source": [
        "#########################################\n",
        "# 테스트 코드 (수정하지 마세요)\n",
        "#########################################\n",
        "\n",
        "# 테스트 입력\n",
        "batch_size = 16\n",
        "channel = 3\n",
        "kernel_size = 3\n",
        "image_size = (4, 4)\n",
        "x_np = np.random.randn(batch_size, channel, *image_size).astype(np.float32)\n",
        "\n",
        "# 모델 생성\n",
        "cnn_np = CNN(in_channels=channel, out_channels=1, kernel_size=kernel_size, input_size=image_size)\n",
        "cnn_pt = nn.Sequential(\n",
        "    nn.Conv2d(channel, 1, kernel_size=kernel_size),\n",
        "    nn.ReLU(),\n",
        "    nn.MaxPool2d(2),\n",
        "    nn.Flatten()\n",
        ")\n",
        "\n",
        "# 가중치 동기화\n",
        "sync_cnn_weights(cnn_np, cnn_pt[0])\n",
        "\n",
        "##########################\n",
        "# 문제 1. CNN Forward 구현 및 통과\n",
        "##########################\n",
        "cnn_forward_sanity_check(cnn_np, cnn_pt, x_np)\n",
        "\n",
        "##########################\n",
        "# 문제 2. CNN Backward 구현 및 통과\n",
        "##########################\n",
        "cnn_backward_sanity_check(cnn_np, cnn_pt, x_np)\n",
        "\n",
        "'''\n",
        "CNN Forward Sanity Check: Pass\n",
        "W: Pass (Relative diff: 0.000000)\n",
        "b: Pass (Relative diff: 0.000000)\n",
        "CNN Backward Sanity Check: Pass\n",
        "'''"
      ],
      "metadata": {
        "collapsed": true,
        "id": "D5qpdTYb_KRm",
        "colab": {
          "base_uri": "https://localhost:8080/",
          "height": 108
        },
        "outputId": "34980d44-00c0-4f4d-9831-d6487ae3b0c7"
      },
      "execution_count": 39,
      "outputs": [
        {
          "output_type": "stream",
          "name": "stdout",
          "text": [
            "CNN Forward Sanity Check: Pass\n",
            "W: Fail (Relative diff: 0.882353)\n",
            "b: Fail (Relative diff: 0.882353)\n",
            "CNN Backward Sanity Check: Fail\n"
          ]
        },
        {
          "output_type": "execute_result",
          "data": {
            "text/plain": [
              "'\\nCNN Forward Sanity Check: Pass\\nW: Pass (Relative diff: 0.000000)\\nb: Pass (Relative diff: 0.000000)\\nCNN Backward Sanity Check: Pass\\n'"
            ],
            "application/vnd.google.colaboratory.intrinsic+json": {
              "type": "string"
            }
          },
          "metadata": {},
          "execution_count": 39
        }
      ]
    },
    {
      "cell_type": "markdown",
      "metadata": {
        "id": "H0X4hu4Z_t7W"
      },
      "source": [
        "---\n",
        "# Q6. RNN"
      ]
    },
    {
      "cell_type": "code",
      "execution_count": 40,
      "metadata": {
        "id": "MjavsIc__t7X",
        "colab": {
          "base_uri": "https://localhost:8080/"
        },
        "outputId": "1af1f13d-a68b-4eda-cf1d-472557f674dc"
      },
      "outputs": [
        {
          "output_type": "stream",
          "name": "stdout",
          "text": [
            "셀 1: 필요한 라이브러리 임포트 & 시드 고정 완료.\n"
          ]
        }
      ],
      "source": [
        "\"\"\"\n",
        "Q6. RNN\n",
        "\"\"\"\n",
        "# -------------------------------\n",
        "# 6-1) 시드 고정 (재현성을 위해)\n",
        "# -------------------------------\n",
        "\n",
        "import torch\n",
        "import torch.nn as nn\n",
        "import torch.nn.functional as F\n",
        "from torch.utils.data import Dataset, DataLoader\n",
        "import random\n",
        "import numpy as np\n",
        "import unittest\n",
        "\n",
        "torch.manual_seed(42)\n",
        "np.random.seed(42)\n",
        "random.seed(42)\n",
        "\n",
        "print(\"셀 1: 필요한 라이브러리 임포트 & 시드 고정 완료.\")\n",
        "\n"
      ]
    },
    {
      "cell_type": "code",
      "source": [
        "# -------------------------------\n",
        "# 6-2. Custom RNN Cell 구현\n",
        "# -------------------------------\n",
        "import math\n",
        "\n",
        "class CustomRNNCell(nn.Module):\n",
        "    def __init__(self, input_size, hidden_size):\n",
        "        super(CustomRNNCell, self).__init__()\n",
        "        self.input_size = input_size\n",
        "        self.hidden_size = hidden_size\n",
        "\n",
        "        # W_xh: (hidden_size, input_size)\n",
        "        # W_hh: (hidden_size, hidden_size)\n",
        "        # b: (hidden_size)\n",
        "        self.W_xh = nn.Parameter(torch.Tensor(hidden_size, input_size))\n",
        "        self.W_hh = nn.Parameter(torch.Tensor(hidden_size, hidden_size))\n",
        "        self.b = nn.Parameter(torch.Tensor(hidden_size))\n",
        "\n",
        "        self.reset_parameters()\n",
        "\n",
        "    def reset_parameters(self):\n",
        "        \"\"\"\n",
        "        가중치와 편향 초기화 (균등 분포 사용)\n",
        "        \"\"\"\n",
        "        stdv = 1.0 / math.sqrt(self.hidden_size)\n",
        "        for param in [self.W_xh, self.W_hh, self.b]:\n",
        "            param.data.uniform_(-stdv, stdv)\n",
        "\n",
        "    def forward(self, x, h_prev):\n",
        "        \"\"\"\n",
        "        x: (batch, input_size)\n",
        "        h_prev: (batch, hidden_size)\n",
        "        → h_t: (batch, hidden_size)\n",
        "        \"\"\"\n",
        "        # W_xh @ x.T: (hidden_size, batch) → (batch, hidden_size)\n",
        "        x_proj = F.linear(x, self.W_xh)      # F.linear(x, W) = x @ W.T\n",
        "        h_proj = F.linear(h_prev, self.W_hh)\n",
        "        h_current = torch.tanh(x_proj + h_proj + self.b)\n",
        "        return h_current\n",
        "\n",
        "print(\"셀 2: CustomRNNCell 클래스 정의 완료.\")\n"
      ],
      "metadata": {
        "colab": {
          "base_uri": "https://localhost:8080/"
        },
        "id": "BxvRPdjDLF7_",
        "outputId": "0ff0defe-7fae-4d16-e692-fc7c959416ba"
      },
      "execution_count": 41,
      "outputs": [
        {
          "output_type": "stream",
          "name": "stdout",
          "text": [
            "셀 2: CustomRNNCell 클래스 정의 완료.\n"
          ]
        }
      ]
    },
    {
      "cell_type": "code",
      "source": [
        "# -------------------------------\n",
        "# 6-3. Custom RNN Model 구현\n",
        "# -------------------------------\n",
        "\n",
        "class CustomRNNModel(nn.Module):\n",
        "    def __init__(self, vocab_size, embed_size, hidden_size):\n",
        "        super(CustomRNNModel, self).__init__()\n",
        "        self.vocab_size = vocab_size\n",
        "        self.embed_size = embed_size\n",
        "        self.hidden_size = hidden_size\n",
        "\n",
        "        # 임베딩 레이어: 패딩 idx = 0\n",
        "        self.embedding = nn.Embedding(vocab_size, embed_size, padding_idx=0)\n",
        "\n",
        "        # Custom RNN 셀\n",
        "        self.rnn_cell = CustomRNNCell(embed_size, hidden_size)\n",
        "\n",
        "        # 출력 레이어: hidden → vocab_size\n",
        "        self.output_layer = nn.Linear(hidden_size, vocab_size)\n",
        "\n",
        "    def forward(self, input_seq, target_seq=None, teacher_forcing_ratio=0.5):\n",
        "        batch_size, seq_len = input_seq.size()\n",
        "        device = input_seq.device\n",
        "\n",
        "        # 초기 hidden state: 0\n",
        "        h_t = torch.zeros(batch_size, self.hidden_size).to(device)\n",
        "\n",
        "        # 임베딩 전체 시퀀스\n",
        "        embedded = self.embedding(input_seq)\n",
        "\n",
        "        # 출력 저장\n",
        "        outputs = torch.zeros(batch_size, seq_len, self.vocab_size).to(device)\n",
        "\n",
        "        # 첫 입력: input_seq[:, 0] (예: <SOS> 토큰)\n",
        "        input_t = input_seq[:, 0]\n",
        "\n",
        "        for t in range(seq_len):\n",
        "            # 현재 입력 토큰 → 임베딩\n",
        "            embed_t = self.embedding(input_t)  # (B, embed_size)\n",
        "\n",
        "            # RNN cell forward\n",
        "            h_t = self.rnn_cell(embed_t, h_t)  # (B, hidden_size)\n",
        "\n",
        "            # 출력 레이어 → logits\n",
        "            output_t = self.output_layer(h_t)  # (B, vocab_size)\n",
        "            outputs[:, t] = output_t\n",
        "\n",
        "            # 다음 입력 결정 (teacher forcing)\n",
        "            if target_seq is not None and t < seq_len - 1:\n",
        "                teacher_force = random.random() < teacher_forcing_ratio\n",
        "                top1 = output_t.argmax(1)  # (B,)\n",
        "                input_t = target_seq[:, t + 1] if teacher_force else top1\n",
        "            else:\n",
        "                input_t = output_t.argmax(1)\n",
        "\n",
        "        return outputs\n",
        "\n",
        "\n",
        "print(\"셀 3: CustomRNNModel 클래스 정의 완료.\")\n"
      ],
      "metadata": {
        "colab": {
          "base_uri": "https://localhost:8080/"
        },
        "id": "3zeGPo5cLKXF",
        "outputId": "2440d27a-789a-4078-d875-ae90633f30a3"
      },
      "execution_count": 42,
      "outputs": [
        {
          "output_type": "stream",
          "name": "stdout",
          "text": [
            "셀 3: CustomRNNModel 클래스 정의 완료.\n"
          ]
        }
      ]
    },
    {
      "cell_type": "code",
      "source": [
        "# -------------------------------\n",
        "# 6-4) Masked Cross-Entropy Loss 구현\n",
        "# -------------------------------\n",
        "def masked_cross_entropy_loss(logits, target, lengths):\n",
        "    \"\"\"\n",
        "    패딩된 부분은 loss 계산에서 제외하는 Cross Entropy Loss.\n",
        "\n",
        "    Args:\n",
        "      logits: (batch, max_seq_len, vocab_size)\n",
        "      target: (batch, max_seq_len)\n",
        "      lengths: (batch,) 각 시퀀스의 실제 길이\n",
        "    Returns:\n",
        "      Scalar loss.\n",
        "    \"\"\"\n",
        "    batch_size, max_seq_len, vocab_size = logits.size()\n",
        "    # logits와 target을 평탄화\n",
        "    logits_flat = logits.view(-1, vocab_size)\n",
        "    target_flat = target.view(-1)\n",
        "\n",
        "    # reduction='none'으로 각 위치의 loss를 계산\n",
        "    loss_flat = F.cross_entropy(logits_flat, target_flat, reduction='none')\n",
        "    loss = loss_flat.view(batch_size, max_seq_len)\n",
        "\n",
        "    # mask 생성: 각 시퀀스의 유효 시간 단계에 대해 True\n",
        "    mask = torch.arange(max_seq_len, device=logits.device).expand(batch_size, max_seq_len) < lengths.unsqueeze(1)\n",
        "    mask = mask.float()\n",
        "\n",
        "    # 마스킹된 loss만 합산\n",
        "    loss = loss * mask\n",
        "    loss = loss.sum() / mask.sum()\n",
        "    return loss\n",
        "\n",
        "print(\"셀 4: masked_cross_entropy_loss 함수 정의 완료.\")\n"
      ],
      "metadata": {
        "colab": {
          "base_uri": "https://localhost:8080/"
        },
        "id": "j5fwtBJ5LOy1",
        "outputId": "970da7f0-880e-42d7-a972-4846af6f7a4c"
      },
      "execution_count": 43,
      "outputs": [
        {
          "output_type": "stream",
          "name": "stdout",
          "text": [
            "셀 4: masked_cross_entropy_loss 함수 정의 완료.\n"
          ]
        }
      ]
    },
    {
      "cell_type": "code",
      "source": [
        "# -------------------------------\n",
        "# 6-5) 데이터 전처리 및 Dataset/Collate 함수 구현\n",
        "# -------------------------------\n",
        "class ToySequenceDataset(Dataset):\n",
        "    \"\"\"\n",
        "    가변 길이의 랜덤 토큰 시퀀스를 생성하는 toy dataset.\n",
        "\n",
        "    각 시퀀스의 토큰은 1 ~ (vocab_size-1) 범위의 정수이며, 0은 패딩용으로 사용됨.\n",
        "    입력과 타깃은 동일하게 구성 (예를 들어, 시퀀스 생성 태스크).\n",
        "    \"\"\"\n",
        "    def __init__(self, num_samples, min_len, max_len, vocab_size):\n",
        "        self.samples = []\n",
        "        self.vocab_size = vocab_size\n",
        "        for _ in range(num_samples):\n",
        "            seq_length = random.randint(min_len, max_len)\n",
        "            # 1부터 vocab_size-1 사이의 토큰 생성 (0은 패딩)\n",
        "            seq = torch.randint(1, vocab_size, (seq_length,))\n",
        "            self.samples.append(seq)\n",
        "\n",
        "    def __len__(self):\n",
        "        return len(self.samples)\n",
        "\n",
        "    def __getitem__(self, idx):\n",
        "        seq = self.samples[idx]\n",
        "        # 입력과 타깃 시퀀스는 동일: 첫 토큰은 <SOS> 역할.\n",
        "        return seq, seq\n",
        "\n",
        "def collate_fn(batch):\n",
        "    \"\"\"\n",
        "    배치 내 가변 길이 시퀀스를 padding_value=0 으로 패딩.\n",
        "\n",
        "    Returns:\n",
        "      - input_padded: (batch, max_seq_len)\n",
        "      - target_padded: (batch, max_seq_len)\n",
        "      - lengths: 각 시퀀스의 실제 길이 (Tensor)\n",
        "    \"\"\"\n",
        "    sequences, targets = zip(*batch)\n",
        "    lengths = torch.tensor([len(seq) for seq in sequences])\n",
        "    input_padded = nn.utils.rnn.pad_sequence(sequences, batch_first=True, padding_value=0)\n",
        "    target_padded = nn.utils.rnn.pad_sequence(targets, batch_first=True, padding_value=0)\n",
        "    return input_padded, target_padded, lengths\n",
        "\n",
        "print(\"셀 5: ToySequenceDataset & collate_fn 정의 완료.\")\n"
      ],
      "metadata": {
        "colab": {
          "base_uri": "https://localhost:8080/"
        },
        "id": "HQHZC5lzLSfm",
        "outputId": "ad380c10-9a00-407f-b90c-faae5dc6a652"
      },
      "execution_count": 44,
      "outputs": [
        {
          "output_type": "stream",
          "name": "stdout",
          "text": [
            "셀 5: ToySequenceDataset & collate_fn 정의 완료.\n"
          ]
        }
      ]
    },
    {
      "cell_type": "code",
      "source": [
        "# -------------------------------\n",
        "# 6-6) 학습 및 평가 루프 구현\n",
        "# -------------------------------\n",
        "def train_model(model, train_loader, valid_loader, num_epochs, optimizer, device):\n",
        "    \"\"\"\n",
        "    학습 루프.\n",
        "    \"\"\"\n",
        "    model.to(device)\n",
        "\n",
        "    for epoch in range(1, num_epochs + 1):\n",
        "        model.train()\n",
        "        train_losses = []\n",
        "\n",
        "        for input_batch, target_batch, lengths in train_loader:\n",
        "            input_batch = input_batch.to(device)\n",
        "            target_batch = target_batch.to(device)\n",
        "            lengths = lengths.to(device)\n",
        "\n",
        "            optimizer.zero_grad()\n",
        "            output = model(input_batch, target_batch, teacher_forcing_ratio=0.5)\n",
        "            loss = masked_cross_entropy_loss(output, target_batch, lengths)\n",
        "            loss.backward()\n",
        "            optimizer.step()\n",
        "\n",
        "            train_losses.append(loss.item())\n",
        "\n",
        "        # 검증 루프\n",
        "        model.eval()\n",
        "        valid_losses = []\n",
        "\n",
        "        with torch.no_grad():\n",
        "            for input_batch, target_batch, lengths in valid_loader:\n",
        "                input_batch = input_batch.to(device)\n",
        "                target_batch = target_batch.to(device)\n",
        "                lengths = lengths.to(device)\n",
        "\n",
        "                output = model(input_batch, target_batch, teacher_forcing_ratio=0.0)\n",
        "                loss = masked_cross_entropy_loss(output, target_batch, lengths)\n",
        "                valid_losses.append(loss.item())\n",
        "\n",
        "        train_loss = np.mean(train_losses)\n",
        "        valid_loss = np.mean(valid_losses)\n",
        "\n",
        "        print(f\"Epoch {epoch}: Train Loss = {train_loss:.4f}, Validation Loss = {valid_loss:.4f}\")\n",
        "\n",
        "        # 샘플 예측 결과 출력 (teacher forcing 없이)\n",
        "        sample_input = input_batch[0:1]  # 마지막 배치 기준\n",
        "        sample_output_logits = model(sample_input, teacher_forcing_ratio=0.0)\n",
        "        sample_output = sample_output_logits.argmax(dim=2)\n",
        "        print(f\"Sample Prediction: {sample_output.tolist()}\")\n",
        "\n",
        "\n",
        "print(\"셀 6: train_model 함수 정의 완료.\")\n"
      ],
      "metadata": {
        "colab": {
          "base_uri": "https://localhost:8080/"
        },
        "id": "lGsGqx7tLWqd",
        "outputId": "f8c90ffa-b8ad-4460-ef23-b7d5b3789f1b"
      },
      "execution_count": 45,
      "outputs": [
        {
          "output_type": "stream",
          "name": "stdout",
          "text": [
            "셀 6: train_model 함수 정의 완료.\n"
          ]
        }
      ]
    },
    {
      "cell_type": "code",
      "source": [
        "# -------------------------------\n",
        "# 6-7) 유닛 테스트 (unittest 사용)\n",
        "# -------------------------------\n",
        "class TestCustomRNNModel(unittest.TestCase):\n",
        "    def setUp(self):\n",
        "        # 작은 모델과 더미 데이터를 이용해 테스트 준비\n",
        "        self.vocab_size = 10\n",
        "        self.embed_size = 8\n",
        "        self.hidden_size = 16\n",
        "        self.model = CustomRNNModel(self.vocab_size, self.embed_size, self.hidden_size)\n",
        "        self.device = torch.device(\"cpu\")\n",
        "        self.model.to(self.device)\n",
        "\n",
        "    def test_forward_pass_shape(self):\n",
        "        \"\"\"\n",
        "        forward pass가 올바른 출력 shape (batch, seq_len, vocab_size)를 생성하는지 테스트.\n",
        "        \"\"\"\n",
        "        batch_size = 4\n",
        "        seq_len = 7\n",
        "        input_seq = torch.randint(1, self.vocab_size, (batch_size, seq_len)).to(self.device)\n",
        "        outputs = self.model(input_seq, target_seq=input_seq, teacher_forcing_ratio=0.5)\n",
        "        self.assertEqual(outputs.shape, (batch_size, seq_len, self.vocab_size))\n",
        "\n",
        "    def test_masked_loss(self):\n",
        "        \"\"\"\n",
        "        패딩된 시퀀스 부분이 loss 계산에서 제외되는지 테스트.\n",
        "        \"\"\"\n",
        "        # 두 시퀀스에 대해 서로 다른 길이를 갖는 더미 logits 및 타깃\n",
        "        logits = torch.tensor([\n",
        "            [[2.0, 0.5, 0.1],\n",
        "             [1.0, 0.5, 0.2],\n",
        "             [0.1, 0.2, 0.3],\n",
        "             [0.0, 0.0, 0.0]],   # 시퀀스1: 길이 3, 마지막은 패딩\n",
        "            [[1.0, 0.2, 0.3],\n",
        "             [2.0, 1.0, 0.5],\n",
        "             [0.0, 0.0, 0.0],\n",
        "             [0.0, 0.0, 0.0]]    # 시퀀스2: 길이 2, 후반부 모두 패딩\n",
        "        ])\n",
        "        target = torch.tensor([\n",
        "            [0, 1, 2, 0],\n",
        "            [1, 0, 2, 0]\n",
        "        ])\n",
        "        lengths = torch.tensor([3, 2])\n",
        "        loss = masked_cross_entropy_loss(logits, target, lengths)\n",
        "        # 유효 토큰에 대해서만 loss가 계산되었는지 (0보다 큰 값인지) 확인\n",
        "        self.assertTrue(loss.item() > 0)\n",
        "\n",
        "    def test_gradient_clipping(self):\n",
        "        \"\"\"\n",
        "        역전파 후 gradient의 norm이 임계값 5.0 이하로 클리핑되는지 테스트.\n",
        "        \"\"\"\n",
        "        batch_size = 2\n",
        "        seq_len = 5\n",
        "        input_seq = torch.randint(1, self.vocab_size, (batch_size, seq_len)).to(self.device)\n",
        "        target_seq = input_seq.clone().to(self.device)\n",
        "        optimizer = torch.optim.SGD(self.model.parameters(), lr=0.1)\n",
        "        optimizer.zero_grad()\n",
        "        outputs = self.model(input_seq, target_seq=target_seq, teacher_forcing_ratio=0.5)\n",
        "        loss = masked_cross_entropy_loss(outputs, target_seq, torch.tensor([seq_len]*batch_size))\n",
        "        loss.backward()\n",
        "\n",
        "        # gradient clipping 적용\n",
        "        max_norm = 5.0\n",
        "        nn.utils.clip_grad_norm_(self.model.parameters(), max_norm=max_norm)\n",
        "\n",
        "        # 각 파라미터의 gradient norm을 확인\n",
        "        for param in self.model.parameters():\n",
        "            if param.grad is not None:\n",
        "                param_norm = param.grad.data.norm(2).item()\n",
        "                self.assertTrue(param_norm <= max_norm + 1e-6)\n",
        "\n",
        "print(\"셀 7: TestCustomRNNModel 클래스 정의 완료 (unittest).\")\n"
      ],
      "metadata": {
        "colab": {
          "base_uri": "https://localhost:8080/"
        },
        "id": "t4o8__SeLa-v",
        "outputId": "8be7c5ed-6539-435a-832e-78945e80903f"
      },
      "execution_count": 46,
      "outputs": [
        {
          "output_type": "stream",
          "name": "stdout",
          "text": [
            "셀 7: TestCustomRNNModel 클래스 정의 완료 (unittest).\n"
          ]
        }
      ]
    },
    {
      "cell_type": "code",
      "source": [
        "if __name__ == \"__main__\":\n",
        "    # 데이터셋 및 DataLoader 구성\n",
        "    vocab_size = 20   # 0은 패딩 토큰\n",
        "    embed_size = 16\n",
        "    hidden_size = 32\n",
        "    num_train_samples = 100\n",
        "    num_valid_samples = 20\n",
        "    min_len = 5\n",
        "    max_len = 10\n",
        "\n",
        "    # 1. 데이터셋 생성\n",
        "    train_dataset = ToySequenceDataset(num_train_samples, min_len, max_len, vocab_size)\n",
        "    valid_dataset = ToySequenceDataset(num_valid_samples, min_len, max_len, vocab_size)\n",
        "\n",
        "    # 2. DataLoader 정의\n",
        "    train_loader = DataLoader(train_dataset, batch_size=16, shuffle=True, collate_fn=collate_fn)\n",
        "    valid_loader = DataLoader(valid_dataset, batch_size=16, shuffle=False, collate_fn=collate_fn)\n",
        "\n",
        "    # 3. 디바이스 및 모델 설정\n",
        "    device = torch.device(\"cuda\" if torch.cuda.is_available() else \"cpu\")\n",
        "    model = CustomRNNModel(vocab_size, embed_size, hidden_size)\n",
        "    optimizer = torch.optim.Adam(model.parameters(), lr=0.01)\n",
        "    num_epochs = 5\n",
        "\n",
        "    print(\"=== Training Start ===\")\n",
        "    train_model(model, train_loader, valid_loader, num_epochs, optimizer, device)\n",
        "\n",
        "    print(\"\\n=== Running Unit Tests ===\")\n",
        "    unittest.main(argv=[''], exit=False)\n"
      ],
      "metadata": {
        "colab": {
          "base_uri": "https://localhost:8080/"
        },
        "id": "_qIrIfkhLfYP",
        "outputId": "1a9eb2fd-390f-45ed-a2a0-98ce11c83345"
      },
      "execution_count": 47,
      "outputs": [
        {
          "output_type": "stream",
          "name": "stdout",
          "text": [
            "=== Training Start ===\n",
            "Epoch 1: Train Loss = 2.8028, Validation Loss = 2.9691\n",
            "Sample Prediction: [[6, 6, 6, 6, 6, 6, 6, 6, 6, 6]]\n",
            "Epoch 2: Train Loss = 2.2523, Validation Loss = 3.1251\n",
            "Sample Prediction: [[6, 6, 6, 6, 6, 6, 6, 6, 6, 6]]\n",
            "Epoch 3: Train Loss = 2.1378, Validation Loss = 3.2130\n",
            "Sample Prediction: [[6, 6, 6, 6, 6, 6, 6, 6, 6, 6]]\n"
          ]
        },
        {
          "output_type": "stream",
          "name": "stderr",
          "text": [
            "...\n",
            "----------------------------------------------------------------------\n",
            "Ran 3 tests in 0.057s\n",
            "\n",
            "OK\n"
          ]
        },
        {
          "output_type": "stream",
          "name": "stdout",
          "text": [
            "Epoch 4: Train Loss = 2.0767, Validation Loss = 3.1272\n",
            "Sample Prediction: [[6, 6, 6, 6, 6, 6, 6, 6, 6, 6]]\n",
            "Epoch 5: Train Loss = 1.8426, Validation Loss = 3.1948\n",
            "Sample Prediction: [[6, 6, 6, 6, 6, 6, 6, 6, 6, 6]]\n",
            "\n",
            "=== Running Unit Tests ===\n"
          ]
        }
      ]
    },
    {
      "cell_type": "markdown",
      "source": [
        "---\n",
        "# Q7. 오토인코더 모델 정의\n"
      ],
      "metadata": {
        "id": "fcYiOJqZyTjR"
      }
    },
    {
      "cell_type": "code",
      "source": [
        "# 7-1. 오토인코더 모델 정의\n",
        "\n",
        "import torch\n",
        "import torch.nn as nn\n",
        "import torch.optim as optim\n",
        "from torch.utils.data import DataLoader, TensorDataset\n",
        "from sklearn.datasets import load_iris\n",
        "from sklearn.preprocessing import StandardScaler\n",
        "import numpy as np\n",
        "\n",
        "# 1. Iris 데이터 로드 및 전처리\n",
        "iris = load_iris()\n",
        "X = iris.data  # shape: (150, 4)\n",
        "\n",
        "# 특징 스케일링 (평균 0, 분산 1)\n",
        "scaler = StandardScaler()\n",
        "X_scaled = scaler.fit_transform(X)\n",
        "\n",
        "# numpy array를 torch tensor로 변환\n",
        "X_tensor = torch.tensor(X_scaled, dtype=torch.float32)\n",
        "\n",
        "# TensorDataset과 DataLoader 생성\n",
        "dataset = TensorDataset(X_tensor)\n",
        "dataloader = DataLoader(dataset, batch_size=16, shuffle=True)\n",
        "\n",
        "# device 설정\n",
        "device = torch.device(\"cuda\" if torch.cuda.is_available() else \"cpu\")\n",
        "\n",
        "# 2. 오토인코더 모델 정의\n",
        "class Autoencoder(nn.Module):\n",
        "    def __init__(self, input_dim=4, hidden_dim=2):\n",
        "        super(Autoencoder, self).__init__()\n",
        "        # Encoder: 4 → 3 → 2\n",
        "        self.encoder = nn.Sequential(\n",
        "            nn.Linear(input_dim, 3),\n",
        "            nn.ReLU(),\n",
        "            nn.Linear(3, hidden_dim)\n",
        "        )\n",
        "\n",
        "        # Decoder: 2 → 3 → 4\n",
        "        self.decoder = nn.Sequential(\n",
        "            nn.Linear(hidden_dim, 3),\n",
        "            nn.ReLU(),\n",
        "            nn.Linear(3, input_dim)\n",
        "        )\n",
        "\n",
        "    def forward(self, x):\n",
        "        encoded = self.encoder(x)\n",
        "        reconstructed = self.decoder(encoded)\n",
        "        return reconstructed\n",
        "\n",
        "\n",
        "\n",
        "model = Autoencoder().to(device)\n",
        "\n"
      ],
      "metadata": {
        "id": "sVK58TnlyXlV"
      },
      "execution_count": 48,
      "outputs": []
    },
    {
      "cell_type": "code",
      "source": [
        "# 손실 함수 및 옵티마이저 설정\n",
        "criterion = nn.MSELoss()\n",
        "optimizer = optim.Adam(model.parameters(), lr=0.01)\n",
        "\n",
        "# 트레이닝 함수 정의\n",
        "def train_autoencoder(model, dataloader, optimizer, criterion, device, num_epochs=100):\n",
        "    model.train()\n",
        "    for epoch in range(1, num_epochs + 1):\n",
        "        running_loss = 0.0\n",
        "        for batch in dataloader:\n",
        "            x = batch[0].to(device)\n",
        "\n",
        "            # Forward\n",
        "            reconstructed = model(x)\n",
        "            loss = criterion(reconstructed, x)\n",
        "\n",
        "            # Backward\n",
        "            optimizer.zero_grad()\n",
        "            loss.backward()\n",
        "            optimizer.step()\n",
        "\n",
        "            running_loss += loss.item() * x.size(0)\n",
        "\n",
        "        epoch_loss = running_loss / len(dataloader.dataset)\n",
        "        if epoch % 10 == 0:\n",
        "            print(f\"Epoch {epoch}/{num_epochs}, Loss: {epoch_loss:.4f}\")\n",
        "\n",
        "train_autoencoder(model, dataloader, optimizer, criterion, device, num_epochs=100)\n",
        "print('답안 작성 완료')"
      ],
      "metadata": {
        "colab": {
          "base_uri": "https://localhost:8080/"
        },
        "id": "iyXOya-lrqX8",
        "outputId": "10b13088-6ae6-4c3b-b9bd-406f544adc50"
      },
      "execution_count": 51,
      "outputs": [
        {
          "output_type": "stream",
          "name": "stdout",
          "text": [
            "Epoch 10/100, Loss: 0.0435\n",
            "Epoch 20/100, Loss: 0.0425\n",
            "Epoch 30/100, Loss: 0.0413\n",
            "Epoch 40/100, Loss: 0.0407\n",
            "Epoch 50/100, Loss: 0.0409\n",
            "Epoch 60/100, Loss: 0.0412\n",
            "Epoch 70/100, Loss: 0.0407\n",
            "Epoch 80/100, Loss: 0.0432\n",
            "Epoch 90/100, Loss: 0.0396\n",
            "Epoch 100/100, Loss: 0.0403\n",
            "답안 작성 완료\n"
          ]
        }
      ]
    },
    {
      "cell_type": "markdown",
      "source": [
        "# Q8. 오토인코더 시각화"
      ],
      "metadata": {
        "id": "quypgKeRrxG9"
      }
    },
    {
      "cell_type": "code",
      "source": [
        "'''\n",
        "데이터셋: MNIST (28×28 흑백 이미지)\n",
        "\n",
        "오토인코더 구조:\n",
        "Encoder: 입력(28×28=784) → Dense / Conv 레이어 (학습자가 직접 선택) → 잠재공간(latent)\n",
        "Decoder: 잠재공간 → Dense / ConvTranspose 레이어 → 원본과 같은 (28×28) 차원 출력\n",
        "구체적인 구조는 학습자가 직접 설계하되, 최소한 2~3개 이상의 레이어(인코더/디코더 합쳐서) 사용\n",
        "\n",
        "손실 함수: MSE 또는 BCE(픽셀 단위)\n",
        "\n",
        "최적화: Adam (또는 SGD)\n",
        "\n",
        "학습 파라미터: Epoch=5 이상, Batch Size=64 등\n",
        "\n",
        "결과:\n",
        "최종적으로 입력 이미지와 오토인코더가 재구성한 이미지를 여러 장 비교 시각화\n",
        "Reconstruction Loss(MSE 등)의 감소 추이 확인\n",
        "'''\n",
        "# 8-1) 라이브러리 임포트 및 MNIST 로딩\n",
        "import torch\n",
        "import torch.nn as nn\n",
        "import torch.optim as optim\n",
        "from torch.utils.data import DataLoader\n",
        "import torchvision\n",
        "import torchvision.transforms as transforms\n",
        "import matplotlib.pyplot as plt\n",
        "\n",
        "# MNIST 로드\n",
        "transform = transforms.Compose([\n",
        "    transforms.ToTensor(),\n",
        "    # (0,1) 범위이긴 하지만, 필요하다면 정규화 추가\n",
        "])\n",
        "\n",
        "train_dataset = torchvision.datasets.MNIST(root='./data', train=True, download=True, transform=transform)\n",
        "test_dataset = torchvision.datasets.MNIST(root='./data', train=False, download=True, transform=transform)\n",
        "\n",
        "BATCH_SIZE = 64\n",
        "train_loader = DataLoader(train_dataset, batch_size=BATCH_SIZE, shuffle=True)\n",
        "test_loader = DataLoader(test_dataset, batch_size=BATCH_SIZE, shuffle=False)\n"
      ],
      "metadata": {
        "colab": {
          "base_uri": "https://localhost:8080/"
        },
        "id": "IKs246FBrqRa",
        "outputId": "8e9891ab-7056-4620-fb67-2a48079dcc97"
      },
      "execution_count": 52,
      "outputs": [
        {
          "output_type": "stream",
          "name": "stderr",
          "text": [
            "100%|██████████| 9.91M/9.91M [00:00<00:00, 15.4MB/s]\n",
            "100%|██████████| 28.9k/28.9k [00:00<00:00, 502kB/s]\n",
            "100%|██████████| 1.65M/1.65M [00:00<00:00, 4.67MB/s]\n",
            "100%|██████████| 4.54k/4.54k [00:00<00:00, 8.31MB/s]\n"
          ]
        }
      ]
    },
    {
      "cell_type": "code",
      "source": [
        "# 8-2) Autoencoder 모델 정의\n",
        "import torch.nn.functional as F\n",
        "\n",
        "class AutoEncoder(nn.Module):\n",
        "    def __init__(self, latent_dim=32):\n",
        "        super().__init__()\n",
        "\n",
        "        # Encoder: 784 → 128 → latent\n",
        "        self.encoder = nn.Sequential(\n",
        "            nn.Flatten(),                  # (1, 28, 28) → (784,)\n",
        "            nn.Linear(784, 128),\n",
        "            nn.ReLU(),\n",
        "            nn.Linear(128, latent_dim)\n",
        "        )\n",
        "\n",
        "        # Decoder: latent → 128 → 784 → reshape (1, 28, 28)\n",
        "        self.decoder = nn.Sequential(\n",
        "            nn.Linear(latent_dim, 128),\n",
        "            nn.ReLU(),\n",
        "            nn.Linear(128, 784),\n",
        "            nn.Sigmoid(),                 # 픽셀 복원 (0~1)\n",
        "            nn.Unflatten(1, (1, 28, 28))  # (784,) → (1, 28, 28)\n",
        "        )\n",
        "\n",
        "    def forward(self, x):\n",
        "        z = self.encoder(x)        # 잠재 공간 벡터\n",
        "        out = self.decoder(z)      # 복원된 이미지\n",
        "        return out\n",
        "\n",
        "print(\"셀 2: AutoEncoder 클래스 정의. 아직 완벽한 구조는 아닐 수 있으니 수정해보세요.\")\n"
      ],
      "metadata": {
        "colab": {
          "base_uri": "https://localhost:8080/"
        },
        "id": "TGvgxb1mrqGR",
        "outputId": "993f256b-a120-4fc7-ebcc-c49a9bba3ac9"
      },
      "execution_count": 54,
      "outputs": [
        {
          "output_type": "stream",
          "name": "stdout",
          "text": [
            "셀 2: AutoEncoder 클래스 정의. 아직 완벽한 구조는 아닐 수 있으니 수정해보세요.\n"
          ]
        }
      ]
    },
    {
      "cell_type": "code",
      "source": [
        "# 8-3) 학습 루프 함수 / 손실 함수 정의\n",
        "def train_one_epoch(model, loader, criterion, optimizer, device):\n",
        "    model.train()\n",
        "    running_loss = 0.0\n",
        "    for images, _ in loader:\n",
        "        images = images.to(device)\n",
        "\n",
        "        # Forward\n",
        "        reconstructed = model(images)\n",
        "        loss = criterion(reconstructed, images)\n",
        "\n",
        "        # Backward\n",
        "        optimizer.zero_grad()\n",
        "        loss.backward()\n",
        "        optimizer.step()\n",
        "\n",
        "        running_loss += loss.item()\n",
        "\n",
        "    return running_loss / len(loader)\n",
        "\n",
        "\n",
        "def validate(model, loader, criterion, device):\n",
        "    model.eval()\n",
        "    val_loss = 0.0\n",
        "    with torch.no_grad():\n",
        "        for images, _ in loader:\n",
        "            images = images.to(device)\n",
        "\n",
        "            # Forward\n",
        "            reconstructed = model(images)\n",
        "            loss = criterion(reconstructed, images)\n",
        "\n",
        "            val_loss += loss.item()\n",
        "\n",
        "    return val_loss / len(loader)\n",
        "\n",
        "print(\"셀 3: train_one_epoch / validate 함수 정의 완료 ✅\")\n"
      ],
      "metadata": {
        "colab": {
          "base_uri": "https://localhost:8080/"
        },
        "id": "Cf-aoVH8sB1_",
        "outputId": "bdcfd5c9-fb71-41cd-aee5-7df052dbd9fc"
      },
      "execution_count": 57,
      "outputs": [
        {
          "output_type": "stream",
          "name": "stdout",
          "text": [
            "셀 3: train_one_epoch / validate 함수 정의 완료 ✅\n"
          ]
        }
      ]
    },
    {
      "cell_type": "code",
      "source": [
        "# 8-4) Autoencoder 학습\n",
        "device = torch.device(\"cuda\" if torch.cuda.is_available() else \"cpu\")\n",
        "print(\"사용 디바이스:\", device)\n",
        "\n",
        "LATENT_DIM = 32\n",
        "model = AutoEncoder(latent_dim=LATENT_DIM).to(device)\n",
        "\n",
        "# 손실 함수 (MSE)\n",
        "criterion = nn.MSELoss()\n",
        "optimizer = optim.Adam(model.parameters(), lr=0.001)\n",
        "\n",
        "EPOCHS = 5  # 더 늘려도 됨\n",
        "train_loss_list = []\n",
        "val_loss_list = []\n",
        "\n",
        "for epoch in range(EPOCHS):\n",
        "    train_loss = train_one_epoch(model, train_loader, criterion, optimizer, device)\n",
        "    val_loss = validate(model, test_loader, criterion, device)\n",
        "\n",
        "    train_loss_list.append(train_loss)\n",
        "    val_loss_list.append(val_loss)\n",
        "\n",
        "    print(f\"Epoch {epoch+1}/{EPOCHS} - Train Loss: {train_loss:.4f}, Val Loss: {val_loss:.4f}\")\n",
        "\n",
        "print(\"학습 완료!\")\n"
      ],
      "metadata": {
        "colab": {
          "base_uri": "https://localhost:8080/"
        },
        "id": "bjxJC6AasBv6",
        "outputId": "390bd109-b6fc-4985-b024-b49d342ae6cc"
      },
      "execution_count": 58,
      "outputs": [
        {
          "output_type": "stream",
          "name": "stdout",
          "text": [
            "사용 디바이스: cuda\n",
            "Epoch 1/5 - Train Loss: 0.0364, Val Loss: 0.0182\n",
            "Epoch 2/5 - Train Loss: 0.0156, Val Loss: 0.0131\n",
            "Epoch 3/5 - Train Loss: 0.0122, Val Loss: 0.0107\n",
            "Epoch 4/5 - Train Loss: 0.0105, Val Loss: 0.0095\n",
            "Epoch 5/5 - Train Loss: 0.0094, Val Loss: 0.0087\n",
            "학습 완료!\n"
          ]
        }
      ]
    },
    {
      "cell_type": "code",
      "source": [
        "# 8-5) 학습 곡선 시각화\n",
        "import matplotlib.pyplot as plt\n",
        "\n",
        "plt.figure(figsize=(6,4))\n",
        "plt.plot(range(1, EPOCHS+1), train_loss_list, label='Train Loss')\n",
        "plt.plot(range(1, EPOCHS+1), val_loss_list, label='Val Loss')\n",
        "plt.xlabel('Epoch')\n",
        "plt.ylabel('Loss')\n",
        "plt.title('Reconstruction Loss Curve')\n",
        "plt.legend()\n",
        "plt.show()\n",
        "\n",
        "print(\"셀 5: 학습 곡선 시각화 완료.\")\n"
      ],
      "metadata": {
        "colab": {
          "base_uri": "https://localhost:8080/",
          "height": 428
        },
        "id": "CiocjveAsU3C",
        "outputId": "284ba5a2-07f1-41cb-9380-2b6551eb8611"
      },
      "execution_count": 59,
      "outputs": [
        {
          "output_type": "display_data",
          "data": {
            "text/plain": [
              "<Figure size 600x400 with 1 Axes>"
            ],
            "image/png": "[encoded data removed]"
          },
          "metadata": {}
        },
        {
          "output_type": "stream",
          "name": "stdout",
          "text": [
            "셀 5: 학습 곡선 시각화 완료.\n"
          ]
        }
      ]
    },
    {
      "cell_type": "code",
      "source": [
        "# 8-6) 임의의 테스트 이미지를 가져와, 오토인코더 재구성 결과 확인\n",
        "import numpy as np\n",
        "\n",
        "model.eval()\n",
        "test_iter = iter(test_loader)\n",
        "images, _ = next(test_iter)\n",
        "images = images.to(device)\n",
        "\n",
        "with torch.no_grad():\n",
        "    outputs = model(images)\n",
        "\n",
        "# 원본 & 재구성 비교\n",
        "# images.shape, outputs.shape -> (batch, 1, 28, 28)\n",
        "images_np = images.cpu().numpy()\n",
        "outputs_np = outputs.cpu().numpy()\n",
        "\n",
        "# 시각화 (처음 5장 정도)\n",
        "num_show = 5\n",
        "plt.figure(figsize=(10,4))\n",
        "for i in range(num_show):\n",
        "    # 원본\n",
        "    plt.subplot(2, num_show, i+1)\n",
        "    plt.imshow(images_np[i, 0], cmap='gray')\n",
        "    plt.axis('off')\n",
        "\n",
        "    # 재구성\n",
        "    plt.subplot(2, num_show, num_show + i + 1)\n",
        "    plt.imshow(outputs_np[i, 0], cmap='gray')\n",
        "    plt.axis('off')\n",
        "\n",
        "plt.suptitle('Top row: Original, Bottom row: Reconstructed')\n",
        "plt.show()\n",
        "\n",
        "print(\"셀 6: 재구성 결과 시각화 완료.\")\n"
      ],
      "metadata": {
        "colab": {
          "base_uri": "https://localhost:8080/",
          "height": 399
        },
        "id": "RikUU0M6sBnj",
        "outputId": "0f0e8c86-7ae5-4e7c-d301-3677a770ea9f"
      },
      "execution_count": 60,
      "outputs": [
        {
          "output_type": "display_data",
          "data": {
            "text/plain": [
              "<Figure size 1000x400 with 10 Axes>"
            ],
            "image/png": "[encoded data removed]"
          },
          "metadata": {}
        },
        {
          "output_type": "stream",
          "name": "stdout",
          "text": [
            "셀 6: 재구성 결과 시각화 완료.\n"
          ]
        }
      ]
    },
    {
      "cell_type": "markdown",
      "metadata": {
        "id": "ZD8OZMnU_t7Z"
      },
      "source": [
        "---\n",
        "# Q9. TF-IDF"
      ]
    },
    {
      "cell_type": "code",
      "execution_count": 61,
      "metadata": {
        "colab": {
          "base_uri": "https://localhost:8080/"
        },
        "id": "-VjX2w05tCHN",
        "outputId": "a4c853ad-b751-446f-a53f-bc674265c454"
      },
      "outputs": [
        {
          "output_type": "stream",
          "name": "stdout",
          "text": [
            "=== 전처리 결과 예시 ===\n",
            "문서0 -> ['love', 'apple', 'banana']\n",
            "문서1 -> ['banana', 'favorite', 'fruit']\n",
            "문서2 -> ['apple', 'laptops', 'expensive', 'but', 'love', 'them']\n"
          ]
        }
      ],
      "source": [
        "# 9-1) 텍스트 문서(문장) 목록을 준비\n",
        "\n",
        "documents = [\n",
        "    \"I love apple and banana.\",\n",
        "    \"Banana is my favorite fruit.\",\n",
        "    \"Apple laptops are expensive, but I love them.\",\n",
        "    \"This text is about politics and economy.\",\n",
        "    \"Economy and finance are crucial for politics.\",\n",
        "]\n",
        "# label_list[d_idx] = (문서 d_idx의 카테고리) 9-9)에서 사용.\n",
        "label_list = [\"food\", \"food\", \"tech\", \"politics\", \"politics\"]\n",
        "\n",
        "# 9-2) 전처리 & 토큰화 함수\n",
        "#         - 소문자 변환\n",
        "#         - 특수문자 제거\n",
        "#         - 불용어 제거 등\n",
        "import re\n",
        "\n",
        "def preprocess_and_tokenize(text, stopwords=None):\n",
        "    # 1) 소문자 변환\n",
        "    text = text.lower()\n",
        "\n",
        "    # 2) 특수문자 제거 (알파벳/공백 제외)\n",
        "    text = re.sub(r\"[^a-z\\s]\", \"\", text)\n",
        "\n",
        "    # 3) 토큰화\n",
        "    tokens = text.split()\n",
        "\n",
        "    # 4) 불용어 제거 (stopwords가 있다면)\n",
        "    if stopwords is None:\n",
        "        stopwords = []\n",
        "    tokens = [t for t in tokens if t not in stopwords and t.strip() != \"\"]\n",
        "\n",
        "    return tokens\n",
        "\n",
        "# 불용어\n",
        "stopwords = [\"is\", \"are\", \"my\", \"the\", \"and\", \"i\"]\n",
        "\n",
        "# 실제 처리\n",
        "processed_docs = []\n",
        "for doc in documents:\n",
        "    tokens = preprocess_and_tokenize(doc, stopwords)\n",
        "    processed_docs.append(tokens)\n",
        "\n",
        "\n",
        "\n",
        "print(\"=== 전처리 결과 예시 ===\")\n",
        "for i, tokens in enumerate(processed_docs[:3]):\n",
        "    print(f\"문서{i} -> {tokens}\")\n"
      ]
    },
    {
      "cell_type": "code",
      "source": [
        "# 9-3) 어휘 사전(Vocabulary) 생성\n",
        "#         모든 문서의 토큰을 모아, (단어 → 인덱스) 매핑을 만든다.\n",
        "\n",
        "def build_vocabulary(tokenized_docs):\n",
        "    vocab = {}\n",
        "    idx = 0\n",
        "    for tokens in tokenized_docs:\n",
        "        for token in tokens:\n",
        "            if token not in vocab:\n",
        "                vocab[token] = idx\n",
        "                idx += 1\n",
        "    return vocab\n",
        "\n",
        "\n",
        "vocab = build_vocabulary(processed_docs)\n",
        "print(\"=== 어휘 사전(Vocabulary) 일부 출력 ===\")\n",
        "for k, v in list(vocab.items())[:10]:\n",
        "    print(k, \":\", v)\n",
        "print(\"Vocabulary size:\", len(vocab))\n",
        "\n",
        "# 9-4) TF(단어 등장 횟수) 계산\n",
        "#         raw count, 혹은 로그 스케일 등 원하는 방식을 사용해볼 수 있음\n",
        "\n",
        "def compute_tf_matrix(tokenized_docs, vocab):\n",
        "    \"\"\"\n",
        "    tokenized_docs: 전처리된 각 문서의 토큰 리스트들\n",
        "    vocab: 단어->인덱스 매핑 딕셔너리\n",
        "\n",
        "    return: tf_matrix (문서 수 x 단어 수) 2차원 리스트\n",
        "            tf_matrix[d][w] = 특정 문서d에서 단어w의 빈도(혹은 가중치)\n",
        "    \"\"\"\n",
        "    num_docs = len(tokenized_docs)\n",
        "    vocab_size = len(vocab)\n",
        "\n",
        "    # 문서 x 단어 크기의 2차원 리스트를 0으로 초기화\n",
        "    tf_matrix = [[0 for _ in range(vocab_size)] for _ in range(num_docs)]\n",
        "\n",
        "    for d_idx, tokens in enumerate(tokenized_docs):\n",
        "        for token in tokens:\n",
        "            if token in vocab:\n",
        "                w_idx = vocab[token]\n",
        "                tf_matrix[d_idx][w_idx] += 1\n",
        "    return tf_matrix\n",
        "\n",
        "tf_matrix = compute_tf_matrix(processed_docs, vocab)\n",
        "\n",
        "print(\"=== 문서별 TF 벡터 (일부) ===\")\n",
        "for i in range(len(tf_matrix[:3])):  # 앞 3개 문서만 예시\n",
        "    print(\"문서\", i, \"->\", tf_matrix[i][:10], \"...\")  # 앞 10개 단어만 출력\n"
      ],
      "metadata": {
        "colab": {
          "base_uri": "https://localhost:8080/"
        },
        "id": "xPUp3iHKFLeB",
        "outputId": "cba9d140-6684-4e50-8d61-e4a4bb5be963"
      },
      "execution_count": 62,
      "outputs": [
        {
          "output_type": "stream",
          "name": "stdout",
          "text": [
            "=== 어휘 사전(Vocabulary) 일부 출력 ===\n",
            "love : 0\n",
            "apple : 1\n",
            "banana : 2\n",
            "favorite : 3\n",
            "fruit : 4\n",
            "laptops : 5\n",
            "expensive : 6\n",
            "but : 7\n",
            "them : 8\n",
            "this : 9\n",
            "Vocabulary size: 17\n",
            "=== 문서별 TF 벡터 (일부) ===\n",
            "문서 0 -> [1, 1, 1, 0, 0, 0, 0, 0, 0, 0] ...\n",
            "문서 1 -> [0, 0, 1, 1, 1, 0, 0, 0, 0, 0] ...\n",
            "문서 2 -> [1, 1, 0, 0, 0, 1, 1, 1, 1, 0] ...\n"
          ]
        }
      ]
    },
    {
      "cell_type": "code",
      "source": [
        "import math\n",
        "\n",
        "# 9-5) DF, IDF 계산\n",
        "def compute_idf(tf_matrix):\n",
        "    \"\"\"\n",
        "    tf_matrix: 문서 수 x 단어 수\n",
        "    return: idf_list (길이가 단어 수인 1차원 리스트)\n",
        "    \"\"\"\n",
        "    num_docs = len(tf_matrix)\n",
        "    vocab_size = len(tf_matrix[0]) if num_docs > 0 else 0\n",
        "\n",
        "    # DF(등장 문서 수) 계산\n",
        "    df = [0] * vocab_size\n",
        "    for w_idx in range(vocab_size):\n",
        "        # 이 단어 w_idx가 등장한 문서 수\n",
        "        count = 0\n",
        "        for d_idx in range(num_docs):\n",
        "         if tf_matrix[d_idx][w_idx] > 0:\n",
        "          count += 1\n",
        "\n",
        "\n",
        "        df[w_idx] = count\n",
        "\n",
        "    # IDF 계산 (log( (N+1)/(df+1) ) 형태 등 다양한 변형 가능)\n",
        "    idf = [0] * vocab_size\n",
        "    for w_idx in range(vocab_size):\n",
        "        # 흔히 사용되는 스무딩 + 로그\n",
        "        # 여기서 +1은 분모가 0인 경우 방지, +1은 로그 스무딩\n",
        "        # 필요에 따라 다르게 변경 가능\n",
        "        idf[w_idx] = math.log((num_docs + 1) / (df[w_idx] + 1)) + 1\n",
        "\n",
        "\n",
        "\n",
        "    return idf\n",
        "\n",
        "idf = compute_idf(tf_matrix)\n",
        "\n",
        "print(\"=== IDF 값 (일부) ===\")\n",
        "for idx, val in enumerate(idf[:10]):\n",
        "    # 역으로 vocab에서 단어를 찾으려면, vocab dict를 뒤집어서 써야 함\n",
        "    print(f\"단어인덱스 {idx}, idf={val:.4f}\")\n"
      ],
      "metadata": {
        "colab": {
          "base_uri": "https://localhost:8080/"
        },
        "id": "5Pw8treVFLNX",
        "outputId": "7c6b2ffc-eff8-46c8-ef25-f21bd3ea90c7"
      },
      "execution_count": 63,
      "outputs": [
        {
          "output_type": "stream",
          "name": "stdout",
          "text": [
            "=== IDF 값 (일부) ===\n",
            "단어인덱스 0, idf=1.6931\n",
            "단어인덱스 1, idf=1.6931\n",
            "단어인덱스 2, idf=1.6931\n",
            "단어인덱스 3, idf=2.0986\n",
            "단어인덱스 4, idf=2.0986\n",
            "단어인덱스 5, idf=2.0986\n",
            "단어인덱스 6, idf=2.0986\n",
            "단어인덱스 7, idf=2.0986\n",
            "단어인덱스 8, idf=2.0986\n",
            "단어인덱스 9, idf=2.0986\n"
          ]
        }
      ]
    },
    {
      "cell_type": "code",
      "source": [
        "# 9-6) TF-IDF 계산\n",
        "def compute_tfidf_matrix(tf_matrix, idf):\n",
        "    \"\"\"\n",
        "    tf_matrix: (문서 수 x 단어 수)\n",
        "    idf: (길이=단어 수) 리스트\n",
        "    return: tfidf_matrix (문서 수 x 단어 수)\n",
        "    \"\"\"\n",
        "    num_docs = len(tf_matrix)\n",
        "    vocab_size = len(tf_matrix[0]) if num_docs > 0 else 0\n",
        "\n",
        "    tfidf_matrix = [[0 for _ in range(vocab_size)] for _ in range(num_docs)]\n",
        "    for d_idx in range(num_docs):\n",
        "        for w_idx in range(vocab_size):\n",
        "            tfidf_matrix[d_idx][w_idx] = tf_matrix[d_idx][w_idx] * idf[w_idx]\n",
        "\n",
        "    return tfidf_matrix\n",
        "\n",
        "tfidf_matrix = compute_tfidf_matrix(tf_matrix, idf)\n",
        "\n",
        "print(\"=== 문서별 TF-IDF 벡터 (일부) ===\")\n",
        "for i in range(len(tfidf_matrix[:3])):\n",
        "    print(f\"문서{i} ->\", tfidf_matrix[i][:10], \"...\")\n"
      ],
      "metadata": {
        "colab": {
          "base_uri": "https://localhost:8080/"
        },
        "id": "f_3I5asBFXd_",
        "outputId": "6462316e-9040-4b71-db35-a7af588c4ca3"
      },
      "execution_count": 64,
      "outputs": [
        {
          "output_type": "stream",
          "name": "stdout",
          "text": [
            "=== 문서별 TF-IDF 벡터 (일부) ===\n",
            "문서0 -> [1.6931471805599454, 1.6931471805599454, 1.6931471805599454, 0.0, 0.0, 0.0, 0.0, 0.0, 0.0, 0.0] ...\n",
            "문서1 -> [0.0, 0.0, 1.6931471805599454, 2.09861228866811, 2.09861228866811, 0.0, 0.0, 0.0, 0.0, 0.0] ...\n",
            "문서2 -> [1.6931471805599454, 1.6931471805599454, 0.0, 0.0, 0.0, 2.09861228866811, 2.09861228866811, 2.09861228866811, 2.09861228866811, 0.0] ...\n"
          ]
        }
      ]
    },
    {
      "cell_type": "code",
      "source": [
        "# 9-7) 코사인 유사도 계산 함수\n",
        "def cosine_similarity(vecA, vecB):\n",
        "    \"\"\"\n",
        "    vecA, vecB: 길이가 같은 1차원 리스트 (TF-IDF 벡터 등)\n",
        "    \"\"\"\n",
        "    dot = 0.0\n",
        "    normA = 0.0\n",
        "    normB = 0.0\n",
        "\n",
        "    for a, b in zip(vecA, vecB):\n",
        "        dot += (a * b)\n",
        "        normA += (a * a)\n",
        "        normB += (b * b)\n",
        "\n",
        "    if normA == 0 or normB == 0:\n",
        "        return 0\n",
        "    return dot / (math.sqrt(normA) * math.sqrt(normB))\n",
        "\n",
        "def compute_document_similarities(tfidf_matrix, doc_idx):\n",
        "    \"\"\"\n",
        "    주어진 문서 doc_idx와 나머지 문서 간 코사인 유사도를 계산해\n",
        "    (다른문서인덱스, 유사도) 리스트를 반환\n",
        "    \"\"\"\n",
        "    base_vec = tfidf_matrix[doc_idx]\n",
        "    num_docs = len(tfidf_matrix)\n",
        "    sims = []\n",
        "    for i in range(num_docs):\n",
        "        sim = cosine_similarity(base_vec, tfidf_matrix[i])\n",
        "        sims.append((i, sim))\n",
        "\n",
        "\n",
        "    # 유사도 내림차순 정렬\n",
        "    sims.sort(key=lambda x: x[1], reverse=True)\n",
        "    return sims\n",
        "\n",
        "# 예시: 문서0과 나머지 문서들 간 유사도\n",
        "sims_for_doc0 = compute_document_similarities(tfidf_matrix, 0)\n",
        "print(\"=== 문서0과의 유사도 ===\")\n",
        "for doc_id, sim_score in sims_for_doc0:\n",
        "    print(f\"문서{doc_id} 유사도: {sim_score:.4f}\")\n"
      ],
      "metadata": {
        "colab": {
          "base_uri": "https://localhost:8080/"
        },
        "id": "fQSOucUmFbhT",
        "outputId": "83c71540-8bc1-4dfa-c705-799ee75ff2bc"
      },
      "execution_count": 65,
      "outputs": [
        {
          "output_type": "stream",
          "name": "stdout",
          "text": [
            "=== 문서0과의 유사도 ===\n",
            "문서0 유사도: 1.0000\n",
            "문서2 유사도: 0.4046\n",
            "문서1 유사도: 0.2861\n",
            "문서3 유사도: 0.0000\n",
            "문서4 유사도: 0.0000\n"
          ]
        }
      ]
    },
    {
      "cell_type": "code",
      "source": [
        "# 9-8) 간단 검색(Information Retrieval) 기능\n",
        "#         - 사용자 검색어(query)를 입력받아,\n",
        "#           그 query 자체를 \"새로운 문서\"라고 간주하고 TF-IDF 벡터를 만든 뒤,\n",
        "#           기존 문서들과 유사도를 계산해 상위 N개를 출력.\n",
        "\n",
        "def build_query_tfidf(query_text, vocab, idf, stopwords=None):\n",
        "    \"\"\"\n",
        "    query_text: 사용자가 입력한 검색어(문장)\n",
        "    vocab: 전체 문서에서 구축한 vocabulary (단어->인덱스)\n",
        "    idf: (길이=단어 수) 리스트 (이미 계산된 값)\n",
        "    \"\"\"\n",
        "    tokens = preprocess_and_tokenize(query_text, stopwords=stopwords)\n",
        "    # query TF 벡터 (길이 = vocab size)\n",
        "    q_tf = [0]*len(vocab)\n",
        "    for word in tokens:\n",
        "        if word in vocab:\n",
        "            idx = vocab[word]\n",
        "            q_tf[idx] += 1\n",
        "\n",
        "    # query TF-IDF = q_tf * idf\n",
        "    q_tfidf = [0]*len(vocab)\n",
        "    for i in range(len(vocab)):\n",
        "        q_tfidf[i] = q_tf[i] * idf[i]\n",
        "\n",
        "\n",
        "    return q_tfidf\n",
        "\n",
        "\n",
        "def search_documents(query_text, vocab, idf, tfidf_matrix, topN=3):\n",
        "    \"\"\"\n",
        "    query_text -> query TF-IDF 벡터 생성\n",
        "               -> 모든 문서와 유사도 계산\n",
        "               -> 상위 topN 문서 출력\n",
        "    \"\"\"\n",
        "    q_vec = build_query_tfidf(query_text, vocab, idf, stopwords=stopwords)\n",
        "\n",
        "    # 문서들(tfidf_matrix)과의 유사도\n",
        "    sims = []\n",
        "    for doc_idx, doc_vec in enumerate(tfidf_matrix):\n",
        "        sim = cosine_similarity(q_vec, doc_vec)\n",
        "        sims.append((doc_idx, sim))\n",
        "\n",
        "\n",
        "    # 내림차순 정렬 후 topN\n",
        "    sims.sort(key=lambda x: x[1], reverse=True)\n",
        "    return sims[:topN]\n",
        "\n",
        "# 예시 검색\n",
        "query = \"apple banana fruit\"\n",
        "results = search_documents(query, vocab, idf, tfidf_matrix, topN=3)\n",
        "\n",
        "print(f\"=== 검색어: '{query}' 결과 상위 3 ===\")\n",
        "for doc_id, sim_score in results:\n",
        "    print(f\"문서{doc_id} (유사도={sim_score:.4f}): {documents[doc_id]}\")\n"
      ],
      "metadata": {
        "colab": {
          "base_uri": "https://localhost:8080/"
        },
        "id": "6JYRQ3E-Ffw8",
        "outputId": "e47d3d19-f115-459e-bb51-3c9c0547e303"
      },
      "execution_count": 66,
      "outputs": [
        {
          "output_type": "stream",
          "name": "stdout",
          "text": [
            "=== 검색어: 'apple banana fruit' 결과 상위 3 ===\n",
            "문서1 (유사도=0.6683): Banana is my favorite fruit.\n",
            "문서0 (유사도=0.6140): I love apple and banana.\n",
            "문서2 (유사도=0.1863): Apple laptops are expensive, but I love them.\n"
          ]
        }
      ]
    },
    {
      "cell_type": "code",
      "source": [
        "# 9-9) KNN으로 분류하기\n",
        "# documents 각각의 레이블은 9-1)의 label_list 사용\n",
        "from collections import Counter\n",
        "\n",
        "def knn_classify(new_doc_vec, tfidf_matrix, label_list, k=3):\n",
        "    \"\"\"\n",
        "    new_doc_vec: 새 문서(또는 쿼리)의 TF-IDF 벡터\n",
        "    tfidf_matrix: 기존 문서들의 TF-IDF (문서 수 x 단어 수)\n",
        "    label_list: 기존 문서의 레이블(길이가 문서 수)\n",
        "    \"\"\"\n",
        "    # 모든 문서와 유사도 계산\n",
        "    sims = []\n",
        "    for d_idx, vec in enumerate(tfidf_matrix):\n",
        "        sim = cosine_similarity(new_doc_vec, vec)\n",
        "        sims.append((d_idx, sim))\n",
        "\n",
        "\n",
        "    sims.sort(key=lambda x: x[1], reverse=True)\n",
        "    top_k = sims[:k]\n",
        "\n",
        "    # 상위 k개의 레이블 중 최빈값\n",
        "    # label_list[d_idx]를 모으고 최빈값 찾기\n",
        "    labels = [label_list[idx] for idx, _ in top_k]\n",
        "    # 간단하게 max()로 최빈값\n",
        "    pred_label = Counter(labels).most_common(1)[0][0]\n",
        "    return pred_label\n",
        "\n",
        "\n",
        "new_query = \"economy politics\"\n",
        "query_vec = build_query_tfidf(new_query, vocab, idf, stopwords)\n",
        "predicted = knn_classify(query_vec, tfidf_matrix, label_list, k=3)\n",
        "print(\"분류 결과:\", predicted)\n"
      ],
      "metadata": {
        "colab": {
          "base_uri": "https://localhost:8080/"
        },
        "id": "lZwkXMpOFxfn",
        "outputId": "acd1fb8a-b337-4344-ef13-08f1c44537ff"
      },
      "execution_count": 68,
      "outputs": [
        {
          "output_type": "stream",
          "name": "stdout",
          "text": [
            "분류 결과: politics\n"
          ]
        }
      ]
    },
    {
      "cell_type": "markdown",
      "metadata": {
        "id": "ixI1YjxctCHN"
      },
      "source": [
        "---\n",
        "# Q10. 협업필터링"
      ]
    },
    {
      "cell_type": "code",
      "execution_count": 76,
      "metadata": {
        "colab": {
          "base_uri": "https://localhost:8080/"
        },
        "id": "z8emU7fJtCHN",
        "outputId": "9a164c05-9f36-4460-9369-22f1b49a158d"
      },
      "outputs": [
        {
          "output_type": "stream",
          "name": "stdout",
          "text": [
            "생성된 샘플 데이터(일부): [(0, 0, 5), (0, 2, 1), (0, 6, 4), (0, 7, 4), (1, 0, 1), (1, 2, 5), (1, 3, 3), (1, 5, 3), (1, 7, 1), (1, 8, 1)]\n",
            "총 평점 데이터 수: 84\n"
          ]
        }
      ],
      "source": [
        "# 10-1) 사용자-아이템 평점 데이터 만들기\n",
        "\n",
        "# 예시: 임의의 user_id, item_id, rating 을 담은 리스트 형태\n",
        "# 최소 20명 이상의 사용자, 10개 이상의 아이템을 구성해보세요.\n",
        "\n",
        "import random\n",
        "\n",
        "def generate_sample_data(num_users=20, num_items=10, rating_scale=(1,5), sparsity=0.3):\n",
        "    \"\"\"\n",
        "    임의의 사용자-아이템 평점 데이터를 생성하는 함수 예시\n",
        "    num_users  : 생성할 사용자 수\n",
        "    num_items  : 생성할 아이템 수\n",
        "    rating_scale: (min_rating, max_rating)\n",
        "    sparsity   : 실제 평점을 줄 확률. 1.0이면 전부 평점, 0이면 전부 결측.\n",
        "\n",
        "    return: data_list = [\n",
        "        (user_id, item_id, rating), ...\n",
        "    ]\n",
        "    \"\"\"\n",
        "    data_list = []\n",
        "    for user_id in range(num_users):\n",
        "        for item_id in range(num_items):\n",
        "            # 일정 확률로 평점을 매기지 않음 (결측)\n",
        "            if random.random() < sparsity:\n",
        "                continue\n",
        "            rating = random.randint(rating_scale[0], rating_scale[1])\n",
        "            data_list.append((user_id, item_id, rating))\n",
        "    return data_list\n",
        "\n",
        "\n",
        "sample_data = generate_sample_data(\n",
        "    num_users=20,\n",
        "    num_items=10,\n",
        "    rating_scale=(1, 5),\n",
        "    sparsity=0.5\n",
        ")\n",
        "\n",
        "print(\"생성된 샘플 데이터(일부):\", sample_data[:10])\n",
        "print(\"총 평점 데이터 수:\", len(sample_data))\n"
      ]
    },
    {
      "cell_type": "code",
      "source": [
        "# 10-2) 전처리 & Sparse Matrix 형태로 만들기\n",
        "\n",
        "def build_sparse_matrix(data_list, num_users, num_items, default_value=None):\n",
        "    \"\"\"\n",
        "    주어진 (user_id, item_id, rating) 형태의 리스트를 받아\n",
        "    희소행렬(sparse matrix)에 해당하는 2차원 리스트(또는 딕셔너리)로 변환.\n",
        "    default_value=None 이면 결측치로 처리.\n",
        "    \"\"\"\n",
        "    sparse_mat = [[default_value for _ in range(num_items)] for _ in range(num_users)]\n",
        "\n",
        "\n",
        "    for user_id, item_id, rating in data_list:\n",
        "        sparse_mat[user_id][item_id] = rating\n",
        "\n",
        "\n",
        "\n",
        "    return sparse_mat\n",
        "\n",
        "# 실제 user 수, item 수는 위에서 정의한 값(또는 CSV 로드 시 파일 분석)을 기반으로 설정\n",
        "num_users = 20\n",
        "num_items = 10\n",
        "\n",
        "\n",
        "sparse_matrix = build_sparse_matrix(sample_data, num_users, num_items, default_value=None)\n",
        "\n",
        "print(\"Sparse Matrix 예시:\")\n",
        "for row in sparse_matrix[:2]:  # 앞 2명에 대한 평점만 미리 출력\n",
        "    print(row)\n"
      ],
      "metadata": {
        "colab": {
          "base_uri": "https://localhost:8080/"
        },
        "id": "RfnrUFRz_Jip",
        "outputId": "e87cf8f4-4c42-4b91-d2d9-3a522f10ba3e"
      },
      "execution_count": 77,
      "outputs": [
        {
          "output_type": "stream",
          "name": "stdout",
          "text": [
            "Sparse Matrix 예시:\n",
            "[5, None, 1, None, None, None, 4, 4, None, None]\n",
            "[1, None, 5, 3, None, 3, None, 1, 1, 5]\n"
          ]
        }
      ]
    },
    {
      "cell_type": "code",
      "source": [
        "# 10-3) 사용자 간 유사도 계산\n",
        "\n",
        "import math\n",
        "\n",
        "def compute_cosine_similarity(user_ratings1, user_ratings2):\n",
        "    \"\"\"\n",
        "    user_ratings1, user_ratings2: 길이가 동일한 리스트(혹은 배열).\n",
        "    결측치는 None으로 들어있을 수 있음.\n",
        "    코사인 유사도를 계산하여 리턴.\n",
        "    \"\"\"\n",
        "    dot_product = 0.0\n",
        "    norm1 = 0.0\n",
        "    norm2 = 0.0\n",
        "\n",
        "    for r1, r2 in zip(user_ratings1, user_ratings2):\n",
        "        if r1 is None or r2 is None:\n",
        "            continue\n",
        "        dot_product += r1 * r2\n",
        "        norm1 += r1 ** 2\n",
        "        norm2 += r2 ** 2\n",
        "\n",
        "    if norm1 == 0 or norm2 == 0:\n",
        "        return 0\n",
        "    return dot_product / (math.sqrt(norm1) * math.sqrt(norm2))\n",
        "\n",
        "def compute_pearson_similarity(user_ratings1, user_ratings2):\n",
        "    \"\"\"\n",
        "    피어슨 상관계수를 계산하는 예시.\n",
        "    (결측치는 제외하고 계산)\n",
        "    \"\"\"\n",
        "    common_r1 = []\n",
        "    common_r2 = []\n",
        "\n",
        "    for r1, r2 in zip(user_ratings1, user_ratings2):\n",
        "        if r1 is None or r2 is None:\n",
        "            continue\n",
        "        common_r1.append(r1)\n",
        "        common_r2.append(r2)\n",
        "\n",
        "    n = len(common_r1)\n",
        "    if n == 0:\n",
        "        return 0\n",
        "\n",
        "    mean1 = sum(common_r1) / n\n",
        "    mean2 = sum(common_r2) / n\n",
        "\n",
        "    numerator = sum((a - mean1) * (b - mean2) for a, b in zip(common_r1, common_r2))\n",
        "    denominator = math.sqrt(sum((a - mean1) ** 2 for a in common_r1)) * \\\n",
        "                  math.sqrt(sum((b - mean2) ** 2 for b in common_r2))\n",
        "\n",
        "    if denominator == 0:\n",
        "        return 0\n",
        "    return numerator / denominator\n",
        "\n",
        "def user_based_similarity_matrix(sparse_matrix, similarity_func='cosine', min_common_items=1):\n",
        "    \"\"\"\n",
        "    전체 사용자 간 유사도 행렬을 계산해보는 함수 예시\n",
        "    - similarity_func: 'cosine' or 'pearson'\n",
        "    - min_common_items: 공통으로 평점을 매긴 아이템 수가 이보다 작으면 유사도를 0으로 처리\n",
        "    \"\"\"\n",
        "    num_users = len(sparse_matrix)\n",
        "    # 유사도 결과를 2차원 리스트로 저장\n",
        "    sim_mat = [[0 for _ in range(num_users)] for _ in range(num_users)]\n",
        "\n",
        "    for u1 in range(num_users):\n",
        "        for u2 in range(u1 + 1, num_users):\n",
        "            ratings_u1 = sparse_matrix[u1]\n",
        "            ratings_u2 = sparse_matrix[u2]\n",
        "\n",
        "            # 공통 평가 아이템 수 확인\n",
        "            common_count = sum(\n",
        "                1 for r1, r2 in zip(ratings_u1, ratings_u2) if r1 is not None and r2 is not None\n",
        "            )\n",
        "            if common_count < min_common_items:\n",
        "                continue\n",
        "\n",
        "            if similarity_func == 'cosine':\n",
        "                sim_score = compute_cosine_similarity(ratings_u1, ratings_u2)\n",
        "            else:\n",
        "                sim_score = compute_pearson_similarity(ratings_u1, ratings_u2)\n",
        "\n",
        "            sim_mat[u1][u2] = sim_score\n",
        "            sim_mat[u2][u1] = sim_score\n",
        "\n",
        "    return sim_mat\n",
        "\n",
        "# 예시 호출\n",
        "user_similarity = user_based_similarity_matrix(\n",
        "    sparse_matrix,\n",
        "    similarity_func='cosine',    # 'pearson'으로 바꿔가며 실험 가능\n",
        "    min_common_items=2          # 예: 최소 2개 아이템 이상 공통으로 평가한 사용자끼리만\n",
        ")\n",
        "\n",
        "print(\"일부 사용자 간 유사도 예시:\")\n",
        "for row in user_similarity[:5]:\n",
        "    print(row[:5])\n"
      ],
      "metadata": {
        "colab": {
          "base_uri": "https://localhost:8080/"
        },
        "id": "NKNhH_Pf_JbT",
        "outputId": "31bf1b61-3237-452a-b5ce-576d8f8af18a"
      },
      "execution_count": 78,
      "outputs": [
        {
          "output_type": "stream",
          "name": "stdout",
          "text": [
            "일부 사용자 간 유사도 예시:\n",
            "[0, 0.41573970964154905, 0.6139406135149205, 0, 0.8040844011283461]\n",
            "[0.41573970964154905, 0, 0.9302605094190635, 0, 0.8492053468683068]\n",
            "[0.6139406135149205, 0.9302605094190635, 0, 0, 0.9716676031619469]\n",
            "[0, 0, 0, 0, 0.9647638212377322]\n",
            "[0.8040844011283461, 0.8492053468683068, 0.9716676031619469, 0.9647638212377322, 0]\n"
          ]
        }
      ]
    },
    {
      "cell_type": "code",
      "source": [
        "# 10-4) 아직 평점을 주지 않은 아이템(결측치)에 대해, 예측 평점을 계산하고 상위 N개 추천\n",
        "\n",
        "def predict_rating_user_based(\n",
        "    target_user,\n",
        "    item_id,\n",
        "    sparse_matrix,\n",
        "    user_similarity,\n",
        "    top_k=5\n",
        "):\n",
        "    \"\"\"\n",
        "    target_user 가 아직 평가하지 않은 item_id 에 대해\n",
        "    사용자 기반 협업 필터링으로 예측 평점을 계산하는 예시.\n",
        "    - top_k: 유사도가 높은 사용자 Top-K를 기준으로 가중평균.\n",
        "    \"\"\"\n",
        "    # 대상 유저의 실제 평점\n",
        "    user_ratings = sparse_matrix[target_user]\n",
        "    if user_ratings[item_id] is not None:\n",
        "        # 이미 평점이 있으면 굳이 예측할 필요 없음\n",
        "        return user_ratings[item_id]\n",
        "\n",
        "    # 유사도 점수가 높은 사용자들을 내림차순 정렬\n",
        "    sim_scores = list(enumerate(user_similarity[target_user]))\n",
        "    # (user_id, sim_score) 형태로 소팅\n",
        "    sim_scores_sorted = sorted(sim_scores, key=lambda x: x[1], reverse=True)\n",
        "\n",
        "    # top_k 만큼만 추려서 예측 (단, 유사도 0 이하인 유저 제외)\n",
        "    numerator = 0.0\n",
        "    denominator = 0.0\n",
        "    count = 0\n",
        "    for other_user, sim_score in sim_scores_sorted:\n",
        "        if other_user == target_user:\n",
        "            continue\n",
        "        if sim_score <= 0:\n",
        "            continue\n",
        "        other_rating = sparse_matrix[other_user][item_id]\n",
        "        if other_rating is None:\n",
        "            continue\n",
        "        numerator += sim_score * other_rating\n",
        "        denominator += sim_score\n",
        "        count += 1\n",
        "        if count >= top_k:\n",
        "            break\n",
        "\n",
        "\n",
        "\n",
        "\n",
        "    if denominator == 0:\n",
        "        # 예측 불가능 시, 임의로 평균 평점 등 사용 가능\n",
        "        return 0\n",
        "\n",
        "    return numerator / denominator\n",
        "\n",
        "def recommend_items_user_based(target_user, sparse_matrix, user_similarity, top_k=5, n_recommend=3):\n",
        "    \"\"\"\n",
        "    target_user가 아직 평가하지 않은 아이템에 대해 예측 평점을 구하고,\n",
        "    상위 n_recommend개를 추천 목록으로 반환.\n",
        "    \"\"\"\n",
        "    num_items = len(sparse_matrix[0])\n",
        "    predictions = []\n",
        "    for item_id in range(num_items):\n",
        "        if sparse_matrix[target_user][item_id] is not None:\n",
        "            continue  # 이미 평점 있음 → 추천 X\n",
        "        pred = predict_rating_user_based(target_user, item_id, sparse_matrix, user_similarity, top_k=top_k)\n",
        "        predictions.append((item_id, pred))\n",
        "\n",
        "\n",
        "\n",
        "    # 예측 평점을 기준으로 내림차순 정렬\n",
        "    predictions.sort(key=lambda x: x[1], reverse=True)\n",
        "    return predictions[:n_recommend]\n",
        "\n",
        "# 예시: user_id=0 에게 추천\n",
        "recommendations_for_user0 = recommend_items_user_based(0, sparse_matrix, user_similarity, top_k=5, n_recommend=3)\n",
        "print(\"user 0 에 대한 추천 아이템(예측 평점):\", recommendations_for_user0)\n"
      ],
      "metadata": {
        "colab": {
          "base_uri": "https://localhost:8080/"
        },
        "id": "iQ8u38g7_JTz",
        "outputId": "3321540f-a376-4319-9bc1-9127b34d00dd"
      },
      "execution_count": 79,
      "outputs": [
        {
          "output_type": "stream",
          "name": "stdout",
          "text": [
            "user 0 에 대한 추천 아이템(예측 평점): [(9, 3.7960587123756206), (4, 2.8310026845188645), (3, 2.728431723587654)]\n"
          ]
        }
      ]
    },
    {
      "cell_type": "code",
      "source": [
        "# 10-5) 아이템 기반도 유사하게 구현\n",
        "# 사용자 기반과 구조만 다르고, 로직은 비슷합니다.\n",
        "\n",
        "def compute_item_similarity_matrix(sparse_matrix, similarity_func='cosine', min_common_users=1):\n",
        "    \"\"\"\n",
        "    아이템끼리의 유사도를 계산하는 예시\n",
        "    sparse_matrix: 사용자 x 아이템 평점 (2차원 리스트)\n",
        "    \"\"\"\n",
        "    # 행: 사용자, 열: 아이템\n",
        "    num_users = len(sparse_matrix)\n",
        "    if num_users == 0:\n",
        "        return []\n",
        "    num_items = len(sparse_matrix[0])\n",
        "\n",
        "    sim_mat = [[0 for _ in range(num_items)] for _ in range(num_items)]\n",
        "\n",
        "    # 아이템 i, j 의 평점을 각각 추출\n",
        "    for i in range(num_items):\n",
        "        for j in range(i + 1, num_items):\n",
        "            ratings_i = [sparse_matrix[u][i] for u in range(num_users)]\n",
        "            ratings_j = [sparse_matrix[u][j] for u in range(num_users)]\n",
        "\n",
        "            # 공통 사용자 수\n",
        "            common = sum(1 for r1, r2 in zip(ratings_i, ratings_j) if r1 is not None and r2 is not None)\n",
        "            if common < min_common_users:\n",
        "                continue\n",
        "\n",
        "            if similarity_func == 'cosine':\n",
        "                sim = compute_cosine_similarity(ratings_i, ratings_j)\n",
        "            else:\n",
        "                sim = compute_pearson_similarity(ratings_i, ratings_j)\n",
        "\n",
        "            sim_mat[i][j] = sim\n",
        "            sim_mat[j][i] = sim\n",
        "\n",
        "    return sim_mat\n",
        "\n",
        "def predict_rating_item_based(\n",
        "    target_user,\n",
        "    item_id,\n",
        "    sparse_matrix,\n",
        "    item_similarity,\n",
        "    top_k=5\n",
        "):\n",
        "    \"\"\"\n",
        "    아이템 기반 협업 필터링으로 target_user의 item_id 예측 평점 계산\n",
        "    \"\"\"\n",
        "    # 이미 평점 있다면 굳이 예측 불필요\n",
        "    if sparse_matrix[target_user][item_id] is not None:\n",
        "        return sparse_matrix[target_user][item_id]\n",
        "\n",
        "\n",
        "    # target_user가 평가한 아이템 목록\n",
        "    rated_items = [\n",
        "        (i, sparse_matrix[target_user][i])\n",
        "        for i in range(len(sparse_matrix[0]))\n",
        "        if sparse_matrix[target_user][i] is not None\n",
        "    ]\n",
        "\n",
        "\n",
        "    # rated_items 의 아이템들과 item_id 사이의 유사도를 바탕으로 가중평균\n",
        "    sim_scores = []\n",
        "    for i, rating in rated_items:\n",
        "        sim = item_similarity[item_id][i]\n",
        "        sim_scores.append((i, sim, rating))\n",
        "\n",
        "\n",
        "\n",
        "\n",
        "    # 유사도 내림차순 정렬\n",
        "    sim_scores.sort(key=lambda x: x[1], reverse=True)\n",
        "\n",
        "    numerator = 0.0\n",
        "    denominator = 0.0\n",
        "    count = 0\n",
        "    for (i, sim_score, r) in sim_scores:\n",
        "        if sim_score <= 0:\n",
        "            break\n",
        "        numerator += (sim_score * r)\n",
        "        denominator += abs(sim_score)\n",
        "        count += 1\n",
        "        if count >= top_k:\n",
        "            break\n",
        "\n",
        "    if denominator == 0:\n",
        "        return 0  # 예측 불가 시 0 또는 다른 기본값\n",
        "\n",
        "    return numerator / denominator\n",
        "\n",
        "def recommend_items_item_based(target_user, sparse_matrix, item_similarity, top_k=5, n_recommend=3):\n",
        "    \"\"\"\n",
        "    item 기반으로 target_user에게 추천 아이템 상위 n개를 반환\n",
        "    \"\"\"\n",
        "    num_items = len(sparse_matrix[0])\n",
        "    predictions = []\n",
        "\n",
        "    for item_id in range(num_items):\n",
        "        if sparse_matrix[target_user][item_id] is not None:\n",
        "            continue  # 이미 평점 있는 아이템 패스\n",
        "        pred = predict_rating_item_based(target_user, item_id, sparse_matrix, item_similarity, top_k)\n",
        "        predictions.append((item_id, pred))\n",
        "\n",
        "\n",
        "\n",
        "\n",
        "    predictions.sort(key=lambda x: x[1], reverse=True)\n",
        "    return predictions[:n_recommend]\n",
        "\n",
        "# 실제로 아이템 기반 유사도 계산\n",
        "item_similarity = compute_item_similarity_matrix(sparse_matrix, similarity_func='cosine', min_common_users=2)\n",
        "\n",
        "# 예시: user 0 에게 추천\n",
        "recommendations_item_based_for_user0 = recommend_items_item_based(0, sparse_matrix, item_similarity, top_k=5, n_recommend=3)\n",
        "print(\"user 0 (아이템 기반) 추천 아이템:\", recommendations_item_based_for_user0)\n"
      ],
      "metadata": {
        "colab": {
          "base_uri": "https://localhost:8080/"
        },
        "id": "HehYD2h8_hGt",
        "outputId": "1e253768-298c-4046-9568-5c0b73834b38"
      },
      "execution_count": 80,
      "outputs": [
        {
          "output_type": "stream",
          "name": "stdout",
          "text": [
            "user 0 (아이템 기반) 추천 아이템: [(8, 3.639623539788439), (3, 3.4493190213081864), (9, 3.4224986451793518)]\n"
          ]
        }
      ]
    },
    {
      "cell_type": "code",
      "source": [
        "# 10-6) 실제 평점과 예측 평점을 비교하기 위한 지표 계산\n",
        "# 이미 평점을 가지고 있는 아이템만 대상으로 RMSE/MAE를 측정해볼 수 있습니다.\n",
        "\n",
        "import math\n",
        "\n",
        "def calculate_rmse(true_ratings, pred_ratings):\n",
        "    \"\"\"\n",
        "    true_ratings, pred_ratings: 길이가 동일한 리스트(수치들)\n",
        "    \"\"\"\n",
        "    mse = 0.0\n",
        "    for t, p in zip(true_ratings, pred_ratings):\n",
        "        mse += (t - p) ** 2\n",
        "    mse /= len(true_ratings)\n",
        "    return math.sqrt(mse)\n",
        "\n",
        "\n",
        "\n",
        "    return math.sqrt(mse)\n",
        "\n",
        "def calculate_mae(true_ratings, pred_ratings):\n",
        "    \"\"\"\n",
        "    Mean Absolute Error\n",
        "    \"\"\"\n",
        "    mae = 0.0\n",
        "    for t, p in zip(true_ratings, pred_ratings):\n",
        "        mae += abs(t - p)\n",
        "    return mae / len(true_ratings)\n",
        "\n",
        "\n",
        "\n",
        "\n",
        "\n",
        "    return mae / len(true_ratings)\n",
        "\n",
        "\n",
        "def evaluate_model_user_based(sparse_matrix, user_similarity, top_k=5):\n",
        "    \"\"\"\n",
        "    간단 평가: 이미 평점이 있는 (user, item)에 대해서\n",
        "    '예측 평점'을 구해보고, RMSE/MAE 비교\n",
        "    \"\"\"\n",
        "    true_vals = []\n",
        "    pred_vals = []\n",
        "\n",
        "    num_users = len(sparse_matrix)\n",
        "    num_items = len(sparse_matrix[0])\n",
        "    for u in range(num_users):\n",
        "        for i in range(num_items):\n",
        "            true_rating = sparse_matrix[u][i]\n",
        "            if true_rating is not None:\n",
        "                # 예측해보기\n",
        "                pred_rating = predict_rating_user_based(u, i, sparse_matrix, user_similarity, top_k)\n",
        "                true_vals.append(true_rating)\n",
        "                pred_vals.append(pred_rating)\n",
        "\n",
        "\n",
        "\n",
        "\n",
        "\n",
        "    rmse_val = calculate_rmse(true_vals, pred_vals)\n",
        "    mae_val = calculate_mae(true_vals, pred_vals)\n",
        "    return rmse_val, mae_val\n",
        "\n",
        "def evaluate_model_item_based(sparse_matrix, item_similarity, top_k=5):\n",
        "    true_vals = []\n",
        "    pred_vals = []\n",
        "\n",
        "    num_users = len(sparse_matrix)\n",
        "    num_items = len(sparse_matrix[0])\n",
        "    for u in range(num_users):\n",
        "        for i in range(num_items):\n",
        "            true_rating = sparse_matrix[u][i]\n",
        "            if true_rating is not None:\n",
        "                pred_rating = predict_rating_item_based(u, i, sparse_matrix, item_similarity, top_k)\n",
        "                true_vals.append(true_rating)\n",
        "                pred_vals.append(pred_rating)\n",
        "\n",
        "\n",
        "    rmse_val = calculate_rmse(true_vals, pred_vals)\n",
        "    mae_val = calculate_mae(true_vals, pred_vals)\n",
        "    return rmse_val, mae_val\n",
        "\n",
        "# 예시 사용\n",
        "rmse_user, mae_user = evaluate_model_user_based(sparse_matrix, user_similarity, top_k=5)\n",
        "rmse_item, mae_item = evaluate_model_item_based(sparse_matrix, item_similarity, top_k=5)\n",
        "\n",
        "print(f\"[사용자 기반] RMSE={rmse_user:.4f}, MAE={mae_user:.4f}\")\n",
        "print(f\"[아이템 기반] RMSE={rmse_item:.4f}, MAE={mae_item:.4f}\")\n"
      ],
      "metadata": {
        "colab": {
          "base_uri": "https://localhost:8080/"
        },
        "id": "OLtzIsxc_g_I",
        "outputId": "d25371d6-45a4-484b-e6ac-5ae7625466be"
      },
      "execution_count": 81,
      "outputs": [
        {
          "output_type": "stream",
          "name": "stdout",
          "text": [
            "[사용자 기반] RMSE=0.0000, MAE=0.0000\n",
            "[아이템 기반] RMSE=0.0000, MAE=0.0000\n"
          ]
        }
      ]
    },
    {
      "cell_type": "markdown",
      "source": [
        "[주관식 과제 수행 시 유의사항]\n",
        "\n",
        "※ 주관식 과제의 채점 기준은 다음과 같습니다\n",
        "\n",
        "결과 출력값이 주어진 것과 동일하게 표기되어 있는가 (일부 변동성을 띠는 숫자는 제외)\n",
        "문제 내에서 요구하는 요구사항들을 모두 이행하였는가\n",
        "따라서 문제 내에서 요구하는 작은 요소라도 반드시 놓치지 마시고, 모두 고려하여 코드를 작성해주시기 바랍니다.\n",
        "\n",
        "만약 위 기준에 부합하지 않는 항목이 있을 경우, 해당 문제는 오답으로 0점 처리되오니 참고하시기 바랍니다."
      ],
      "metadata": {
        "id": "q1xD8fJnxU_k"
      }
    },
    {
      "cell_type": "code",
      "source": [],
      "metadata": {
        "id": "K6_lqz4mm6yS"
      },
      "execution_count": null,
      "outputs": []
    }
  ],
  "metadata": {
    "colab": {
      "provenance": [],
      "machine_shape": "hm",
      "gpuType": "T4",
      "toc_visible": true
    },
    "kernelspec": {
      "display_name": "Python 3",
      "name": "python3"
    },
    "language_info": {
      "codemirror_mode": {
        "name": "ipython",
        "version": 3
      },
      "file_extension": ".py",
      "mimetype": "text/x-python",
      "name": "python",
      "nbconvert_exporter": "python",
      "pygments_lexer": "ipython3",
      "version": "3.12.4"
    },
    "accelerator": "GPU"
  },
  "nbformat": 4,
  "nbformat_minor": 0
}